{
 "cells": [
  {
   "cell_type": "markdown",
   "id": "f74d36d3-aca1-44e4-9e08-f8e7743ec075",
   "metadata": {},
   "source": [
    "# Library Packages"
   ]
  },
  {
   "cell_type": "code",
   "execution_count": 1,
   "id": "d6f9fbbd-17c6-4c86-b51e-cf9b1f826cd3",
   "metadata": {},
   "outputs": [
    {
     "name": "stderr",
     "output_type": "stream",
     "text": [
      "2023-02-18 22:30:47.930079: I tensorflow/stream_executor/platform/default/dso_loader.cc:49] Successfully opened dynamic library libcudart.so.10.1\n",
      "2023-02-18 22:31:26.375555: I tensorflow/core/platform/cpu_feature_guard.cc:142] This TensorFlow binary is optimized with oneAPI Deep Neural Network Library (oneDNN) to use the following CPU instructions in performance-critical operations:  SSE4.1 SSE4.2 AVX AVX2 FMA\n",
      "To enable them in other operations, rebuild TensorFlow with the appropriate compiler flags.\n",
      "2023-02-18 22:31:26.429744: I tensorflow/compiler/jit/xla_gpu_device.cc:99] Not creating XLA devices, tf_xla_enable_xla_devices not set\n",
      "2023-02-18 22:31:26.602910: I tensorflow/stream_executor/platform/default/dso_loader.cc:49] Successfully opened dynamic library libcuda.so.1\n",
      "2023-02-18 22:31:31.607616: E tensorflow/stream_executor/cuda/cuda_driver.cc:328] failed call to cuInit: CUDA_ERROR_NO_DEVICE: no CUDA-capable device is detected\n",
      "2023-02-18 22:31:31.607653: I tensorflow/stream_executor/cuda/cuda_diagnostics.cc:156] kernel driver does not appear to be running on this host (pop-os): /proc/driver/nvidia/version does not exist\n"
     ]
    }
   ],
   "source": [
    "from tensorflow.compat.v1 import ConfigProto\n",
    "from tensorflow.compat.v1 import InteractiveSession\n",
    "config = ConfigProto()\n",
    "config.gpu_options.allow_growth = True\n",
    "session = InteractiveSession(config=config)"
   ]
  },
  {
   "cell_type": "code",
   "execution_count": 2,
   "id": "40870c8b-7112-45f3-bfd3-8fb9be045a35",
   "metadata": {},
   "outputs": [],
   "source": [
    "import pandas as pd\n",
    "import numpy as np\n",
    "import datetime\n",
    "from pandas_summary import DataFrameSummary\n",
    "from tensorflow.keras.utils import to_categorical\n",
    "import matplotlib.pyplot as plt\n",
    "import seaborn as sns"
   ]
  },
  {
   "cell_type": "code",
   "execution_count": 3,
   "id": "7b1c5eba-1ab2-4534-a944-7b1d2b889e57",
   "metadata": {},
   "outputs": [],
   "source": [
    "from tensorflow.keras.models import Model\n",
    "from tensorflow.keras.callbacks import ModelCheckpoint\n",
    "from tensorflow.keras.optimizers import Adam\n",
    "from tensorflow.keras.layers import Embedding, Input, Flatten, Concatenate, Dense, BatchNormalization, Activation, LeakyReLU, Dropout\n",
    "from tensorflow.keras.regularizers import l2\n",
    "from tensorflow.keras import initializers\n",
    "\n",
    "# Model\n",
    "from lightgbm import LGBMRegressor\n",
    "\n",
    "# Hyperparams Search\n",
    "from sklearn.model_selection import cross_val_score\n",
    "from hyperopt import hp, tpe\n",
    "from hyperopt.fmin import fmin"
   ]
  },
  {
   "cell_type": "markdown",
   "id": "e3f80197-5968-44ce-bfeb-95cf72a0675e",
   "metadata": {},
   "source": [
    "# Load Normalized Data\n",
    "\n",
    "This data have been cleaned, and normalized with\n",
    "* LabelEncoders - for categorical variables\n",
    "* StandardScaler - for continuous variables"
   ]
  },
  {
   "cell_type": "code",
   "execution_count": 4,
   "id": "34f78e99-9fd1-432c-88cc-dda58ce0c596",
   "metadata": {},
   "outputs": [],
   "source": [
    "df = pd.read_feather('train_normalized_data.fth')\n",
    "df_test = pd.read_feather('test_normalized_data.fth')\n",
    "df.drop('index',axis='columns',inplace=True)"
   ]
  },
  {
   "cell_type": "markdown",
   "id": "da6bb8d8-8b09-45ec-ad6a-3fe41f290a79",
   "metadata": {},
   "source": [
    "Columns in each dataset"
   ]
  },
  {
   "cell_type": "code",
   "execution_count": 5,
   "id": "c083c733-36df-4c99-9108-960613cd9d71",
   "metadata": {},
   "outputs": [
    {
     "data": {
      "text/plain": [
       "{'Customers', 'Sales'}"
      ]
     },
     "execution_count": 5,
     "metadata": {},
     "output_type": "execute_result"
    }
   ],
   "source": [
    "set(df.columns.tolist())-set(df_test.columns.tolist())"
   ]
  },
  {
   "cell_type": "markdown",
   "id": "36112cbf-e3b4-4696-90c8-43431ce7e6b7",
   "metadata": {},
   "source": [
    "# Data Analysis\n",
    "Check some correlations between columns that will give us information about how to build the NN"
   ]
  },
  {
   "cell_type": "code",
   "execution_count": 6,
   "id": "2e21a82d-586f-4af8-88d2-0495871b8d58",
   "metadata": {},
   "outputs": [
    {
     "data": {
      "text/plain": [
       "Index(['Store', 'DayOfWeek', 'Date', 'Sales', 'Customers', 'Open', 'Promo',\n",
       "       'StateHoliday', 'SchoolHoliday', 'Year', 'Month', 'Week', 'Day',\n",
       "       'StoreType', 'Assortment', 'CompetitionDistance',\n",
       "       'CompetitionOpenSinceMonth', 'CompetitionOpenSinceYear', 'Promo2',\n",
       "       'Promo2SinceWeek', 'Promo2SinceYear', 'PromoInterval',\n",
       "       'CompetitionOpenSince', 'Promo2Since', 'State', 'file', 'week', 'trend',\n",
       "       'Date_y', 'Month_y', 'Day_y', 'file_DE', 'week_DE', 'trend_DE',\n",
       "       'Date_DE', 'State_DE', 'Month_DE', 'Day_DE', 'file_y',\n",
       "       'Max_TemperatureC', 'Mean_TemperatureC', 'Min_TemperatureC',\n",
       "       'Dew_PointC', 'MeanDew_PointC', 'Min_DewpointC', 'Max_Humidity',\n",
       "       'Mean_Humidity', 'Min_Humidity', 'Max_Sea_Level_PressurehPa',\n",
       "       'Mean_Sea_Level_PressurehPa', 'Min_Sea_Level_PressurehPa',\n",
       "       'Max_VisibilityKm', 'Mean_VisibilityKm', 'Min_VisibilitykM',\n",
       "       'Max_Wind_SpeedKm_h', 'Mean_Wind_SpeedKm_h', 'Max_Gust_SpeedKm_h',\n",
       "       'Precipitationmm', 'CloudCover', 'Events', 'WindDirDegrees',\n",
       "       'StateName', 'Year_y', 'Week_y', 'CompetitionDaysOpen',\n",
       "       'CompetitionMonthsOpen', 'Promo2Days', 'Promo2Weeks',\n",
       "       'StateHoliday_bool', 'AfterSchoolHoliday', 'BeforeSchoolHoliday',\n",
       "       'AfterStateHoliday_bool', 'BeforeStateHoliday_bool', 'AfterPromo',\n",
       "       'BeforePromo', 'SchoolHoliday_bw', 'StateHoliday_bool_bw', 'Promo_bw',\n",
       "       'SchoolHoliday_fw', 'StateHoliday_bool_fw', 'Promo_fw'],\n",
       "      dtype='object')"
      ]
     },
     "execution_count": 6,
     "metadata": {},
     "output_type": "execute_result"
    }
   ],
   "source": [
    "df.columns"
   ]
  },
  {
   "cell_type": "code",
   "execution_count": 10,
   "id": "0e18a1ba-2e77-4792-9ca9-685eaa2af9eb",
   "metadata": {},
   "outputs": [
    {
     "data": {
      "text/plain": [
       "<seaborn.axisgrid.FacetGrid at 0x7fe69cdd3340>"
      ]
     },
     "execution_count": 10,
     "metadata": {},
     "output_type": "execute_result"
    },
    {
     "data": {
      "image/png": "[encoded data removed]",
      "text/plain": [
       "<Figure size 500x500 with 1 Axes>"
      ]
     },
     "metadata": {},
     "output_type": "display_data"
    }
   ],
   "source": [
    "sns.displot(y=df.Sales,x=df.Month,bins=12)"
   ]
  },
  {
   "cell_type": "code",
   "execution_count": 11,
   "id": "1324aa54-65b7-40ca-8ab7-ae3b6854041d",
   "metadata": {},
   "outputs": [
    {
     "data": {
      "text/plain": [
       "<seaborn.axisgrid.FacetGrid at 0x7fe69cd8d8e0>"
      ]
     },
     "execution_count": 11,
     "metadata": {},
     "output_type": "execute_result"
    },
    {
     "data": {
      "image/png": "[encoded data removed]",
      "text/plain": [
       "<Figure size 500x500 with 1 Axes>"
      ]
     },
     "metadata": {},
     "output_type": "display_data"
    }
   ],
   "source": [
    "sns.displot(y=df.Sales,x=df.DayOfWeek,bins=12)"
   ]
  },
  {
   "cell_type": "code",
   "execution_count": 92,
   "id": "aa8ff6f0-9b7b-442b-939c-e6a1192374b0",
   "metadata": {},
   "outputs": [],
   "source": [
    "cat_vars = ['Store','Year','Month','StateHoliday','CompetitionMonthsOpen',\n",
    "    'Promo2Weeks','StoreType','Assortment','PromoInterval',\n",
    "    'CompetitionOpenSinceYear','State',\n",
    "    'Week','Events','Promo_fw','Promo_bw','StateHoliday_bool_fw', 'StateHoliday_bool_bw','SchoolHoliday_fw','SchoolHoliday_bw']#'DayOfWeek'\n",
    "\n",
    "contin_vars = ['CompetitionDistance', \n",
    "   'Max_TemperatureC', 'Mean_TemperatureC', 'Min_TemperatureC', 'Precipitationmm',\n",
    "   'Max_Humidity', 'Mean_Humidity', 'Min_Humidity', \n",
    " 'CloudCover', 'trend',\n",
    "   'AfterStateHoliday_bool', 'BeforeStateHoliday_bool', 'Promo', 'SchoolHoliday', 'StateHoliday_bool']"
   ]
  },
  {
   "cell_type": "code",
   "execution_count": 93,
   "id": "414653ff-8305-49b6-a9e0-ead5ea38f044",
   "metadata": {},
   "outputs": [
    {
     "data": {
      "text/plain": [
       "'CAT '"
      ]
     },
     "metadata": {},
     "output_type": "display_data"
    },
    {
     "data": {
      "text/plain": [
       "11"
      ]
     },
     "metadata": {},
     "output_type": "display_data"
    },
    {
     "data": {
      "text/plain": [
       "':'"
      ]
     },
     "metadata": {},
     "output_type": "display_data"
    },
    {
     "data": {
      "text/plain": [
       "['Year',\n",
       " 'Month',\n",
       " 'CompetitionMonthsOpen',\n",
       " 'Promo2Weeks',\n",
       " 'Assortment',\n",
       " 'PromoInterval',\n",
       " 'State',\n",
       " 'Week',\n",
       " 'Promo_fw',\n",
       " 'Promo_bw',\n",
       " 'StateHoliday_bool_fw']"
      ]
     },
     "metadata": {},
     "output_type": "display_data"
    },
    {
     "data": {
      "text/plain": [
       "'CON '"
      ]
     },
     "metadata": {},
     "output_type": "display_data"
    },
    {
     "data": {
      "text/plain": [
       "4"
      ]
     },
     "metadata": {},
     "output_type": "display_data"
    },
    {
     "data": {
      "text/plain": [
       "':'"
      ]
     },
     "metadata": {},
     "output_type": "display_data"
    },
    {
     "data": {
      "text/plain": [
       "['CompetitionDistance', 'BeforeStateHoliday_bool', 'Promo', 'SchoolHoliday']"
      ]
     },
     "metadata": {},
     "output_type": "display_data"
    }
   ],
   "source": [
    "corr_df_cat = df[cat_vars+['Sales']].corr().loc['Sales'].apply(lambda x: np.abs(x)).drop(['Sales'])\n",
    "corr_df_con = df[contin_vars+['Sales']].corr().loc['Sales'].apply(lambda x: np.abs(x)).drop(['Sales'])\n",
    "\n",
    "corr_factor = 0.03\n",
    "display(\"CAT \",len(corr_df_cat[corr_df_cat>corr_factor]),\":\",corr_df_cat[corr_df_cat>corr_factor].index.to_list())\n",
    "display(\"CON \",len(corr_df_con[corr_df_con>corr_factor]),\":\",corr_df_con[corr_df_con>corr_factor].index.to_list())"
   ]
  },
  {
   "cell_type": "code",
   "execution_count": 172,
   "id": "311c21c3-9a17-4321-be64-8cdde5e47e6b",
   "metadata": {},
   "outputs": [],
   "source": [
    "cat_vars = corr_df_cat[corr_df_cat>corr_factor].index.to_list()\n",
    "contin_vars = corr_df_con[corr_df_con>corr_factor].index.to_list()\n",
    "len(cat_vars),len(contin_vars)\n",
    "\n",
    "# Empiric result\n",
    "\n",
    "cat_vars = ['Store', 'DayOfWeek', 'Promo_bw', 'Month', 'Year', 'State', 'Assortment', 'StoreType', 'Events', 'StateHoliday', 'Promo2SinceYear']\n",
    "contin_vars = [ 'Max_TemperatureC', 'Precipitationmm', 'Promo', 'SchoolHoliday', 'trend', 'Mean_TemperatureC','CompetitionDistance']"
   ]
  },
  {
   "cell_type": "code",
   "execution_count": 173,
   "id": "e5e1c27e-3549-4d39-8893-c0c1ca8cd406",
   "metadata": {},
   "outputs": [
    {
     "data": {
      "text/html": [
       "<div>\n",
       "<style scoped>\n",
       "    .dataframe tbody tr th:only-of-type {\n",
       "        vertical-align: middle;\n",
       "    }\n",
       "\n",
       "    .dataframe tbody tr th {\n",
       "        vertical-align: top;\n",
       "    }\n",
       "\n",
       "    .dataframe thead th {\n",
       "        text-align: right;\n",
       "    }\n",
       "</style>\n",
       "<table border=\"1\" class=\"dataframe\">\n",
       "  <thead>\n",
       "    <tr style=\"text-align: right;\">\n",
       "      <th></th>\n",
       "      <th>Store</th>\n",
       "      <th>DayOfWeek</th>\n",
       "      <th>Promo_bw</th>\n",
       "      <th>Month</th>\n",
       "      <th>Year</th>\n",
       "      <th>State</th>\n",
       "      <th>Assortment</th>\n",
       "      <th>StoreType</th>\n",
       "      <th>Events</th>\n",
       "      <th>StateHoliday</th>\n",
       "      <th>Promo2SinceYear</th>\n",
       "      <th>Max_TemperatureC</th>\n",
       "      <th>Precipitationmm</th>\n",
       "      <th>Promo</th>\n",
       "      <th>SchoolHoliday</th>\n",
       "      <th>trend</th>\n",
       "      <th>Mean_TemperatureC</th>\n",
       "      <th>CompetitionDistance</th>\n",
       "    </tr>\n",
       "  </thead>\n",
       "  <tbody>\n",
       "    <tr>\n",
       "      <th>Store</th>\n",
       "      <td>1.000000</td>\n",
       "      <td>0.000343</td>\n",
       "      <td>0.000219</td>\n",
       "      <td>0.001371</td>\n",
       "      <td>0.000300</td>\n",
       "      <td>0.021937</td>\n",
       "      <td>0.005733</td>\n",
       "      <td>-0.021149</td>\n",
       "      <td>0.001603</td>\n",
       "      <td>0.002043</td>\n",
       "      <td>0.020989</td>\n",
       "      <td>-0.000865</td>\n",
       "      <td>0.003708</td>\n",
       "      <td>-0.000015</td>\n",
       "      <td>0.000526</td>\n",
       "      <td>0.006547</td>\n",
       "      <td>0.000649</td>\n",
       "      <td>-0.023337</td>\n",
       "    </tr>\n",
       "    <tr>\n",
       "      <th>DayOfWeek</th>\n",
       "      <td>0.000343</td>\n",
       "      <td>1.000000</td>\n",
       "      <td>0.004746</td>\n",
       "      <td>-0.019710</td>\n",
       "      <td>0.002099</td>\n",
       "      <td>-0.001956</td>\n",
       "      <td>0.001215</td>\n",
       "      <td>-0.001974</td>\n",
       "      <td>-0.027584</td>\n",
       "      <td>-0.002699</td>\n",
       "      <td>-0.001493</td>\n",
       "      <td>0.009737</td>\n",
       "      <td>-0.003322</td>\n",
       "      <td>-0.289268</td>\n",
       "      <td>-0.139319</td>\n",
       "      <td>0.000876</td>\n",
       "      <td>0.007962</td>\n",
       "      <td>0.004893</td>\n",
       "    </tr>\n",
       "    <tr>\n",
       "      <th>Promo_bw</th>\n",
       "      <td>0.000219</td>\n",
       "      <td>0.004746</td>\n",
       "      <td>1.000000</td>\n",
       "      <td>0.016442</td>\n",
       "      <td>0.025769</td>\n",
       "      <td>0.004290</td>\n",
       "      <td>0.000742</td>\n",
       "      <td>-0.001004</td>\n",
       "      <td>0.061150</td>\n",
       "      <td>0.006137</td>\n",
       "      <td>-0.002546</td>\n",
       "      <td>0.028092</td>\n",
       "      <td>0.019999</td>\n",
       "      <td>0.309416</td>\n",
       "      <td>-0.063546</td>\n",
       "      <td>-0.191277</td>\n",
       "      <td>0.026783</td>\n",
       "      <td>0.000687</td>\n",
       "    </tr>\n",
       "    <tr>\n",
       "      <th>Month</th>\n",
       "      <td>0.001371</td>\n",
       "      <td>-0.019710</td>\n",
       "      <td>0.016442</td>\n",
       "      <td>1.000000</td>\n",
       "      <td>-0.268835</td>\n",
       "      <td>0.033331</td>\n",
       "      <td>0.008352</td>\n",
       "      <td>-0.007643</td>\n",
       "      <td>-0.133169</td>\n",
       "      <td>0.005277</td>\n",
       "      <td>-0.024511</td>\n",
       "      <td>0.291897</td>\n",
       "      <td>0.033083</td>\n",
       "      <td>-0.006412</td>\n",
       "      <td>0.118467</td>\n",
       "      <td>0.289025</td>\n",
       "      <td>0.342007</td>\n",
       "      <td>0.002604</td>\n",
       "    </tr>\n",
       "    <tr>\n",
       "      <th>Year</th>\n",
       "      <td>0.000300</td>\n",
       "      <td>0.002099</td>\n",
       "      <td>0.025769</td>\n",
       "      <td>-0.268835</td>\n",
       "      <td>1.000000</td>\n",
       "      <td>0.006333</td>\n",
       "      <td>0.002034</td>\n",
       "      <td>-0.001492</td>\n",
       "      <td>0.018925</td>\n",
       "      <td>0.000934</td>\n",
       "      <td>-0.005238</td>\n",
       "      <td>0.064106</td>\n",
       "      <td>0.007879</td>\n",
       "      <td>0.023990</td>\n",
       "      <td>-0.038686</td>\n",
       "      <td>0.358381</td>\n",
       "      <td>0.035455</td>\n",
       "      <td>0.000396</td>\n",
       "    </tr>\n",
       "    <tr>\n",
       "      <th>State</th>\n",
       "      <td>0.021937</td>\n",
       "      <td>-0.001956</td>\n",
       "      <td>0.004290</td>\n",
       "      <td>0.033331</td>\n",
       "      <td>0.006333</td>\n",
       "      <td>1.000000</td>\n",
       "      <td>0.113563</td>\n",
       "      <td>-0.044941</td>\n",
       "      <td>0.059103</td>\n",
       "      <td>-0.000019</td>\n",
       "      <td>-0.027793</td>\n",
       "      <td>-0.007882</td>\n",
       "      <td>0.039157</td>\n",
       "      <td>0.003574</td>\n",
       "      <td>0.005815</td>\n",
       "      <td>-0.055484</td>\n",
       "      <td>0.011104</td>\n",
       "      <td>0.257695</td>\n",
       "    </tr>\n",
       "    <tr>\n",
       "      <th>Assortment</th>\n",
       "      <td>0.005733</td>\n",
       "      <td>0.001215</td>\n",
       "      <td>0.000742</td>\n",
       "      <td>0.008352</td>\n",
       "      <td>0.002034</td>\n",
       "      <td>0.113563</td>\n",
       "      <td>1.000000</td>\n",
       "      <td>0.230834</td>\n",
       "      <td>0.004358</td>\n",
       "      <td>-0.000626</td>\n",
       "      <td>0.028775</td>\n",
       "      <td>-0.001715</td>\n",
       "      <td>0.002476</td>\n",
       "      <td>-0.000333</td>\n",
       "      <td>-0.002714</td>\n",
       "      <td>-0.009576</td>\n",
       "      <td>-0.000030</td>\n",
       "      <td>0.131580</td>\n",
       "    </tr>\n",
       "    <tr>\n",
       "      <th>StoreType</th>\n",
       "      <td>-0.021149</td>\n",
       "      <td>-0.001974</td>\n",
       "      <td>-0.001004</td>\n",
       "      <td>-0.007643</td>\n",
       "      <td>-0.001492</td>\n",
       "      <td>-0.044941</td>\n",
       "      <td>0.230834</td>\n",
       "      <td>1.000000</td>\n",
       "      <td>0.010482</td>\n",
       "      <td>-0.004435</td>\n",
       "      <td>0.049945</td>\n",
       "      <td>0.005308</td>\n",
       "      <td>-0.010235</td>\n",
       "      <td>0.000324</td>\n",
       "      <td>-0.002263</td>\n",
       "      <td>-0.031700</td>\n",
       "      <td>-0.000206</td>\n",
       "      <td>0.079155</td>\n",
       "    </tr>\n",
       "    <tr>\n",
       "      <th>Events</th>\n",
       "      <td>0.001603</td>\n",
       "      <td>-0.027584</td>\n",
       "      <td>0.061150</td>\n",
       "      <td>-0.133169</td>\n",
       "      <td>0.018925</td>\n",
       "      <td>0.059103</td>\n",
       "      <td>0.004358</td>\n",
       "      <td>0.010482</td>\n",
       "      <td>1.000000</td>\n",
       "      <td>-0.000796</td>\n",
       "      <td>-0.015901</td>\n",
       "      <td>0.009385</td>\n",
       "      <td>-0.033377</td>\n",
       "      <td>-0.000179</td>\n",
       "      <td>0.034472</td>\n",
       "      <td>-0.023891</td>\n",
       "      <td>0.022518</td>\n",
       "      <td>0.027613</td>\n",
       "    </tr>\n",
       "    <tr>\n",
       "      <th>StateHoliday</th>\n",
       "      <td>0.002043</td>\n",
       "      <td>-0.002699</td>\n",
       "      <td>0.006137</td>\n",
       "      <td>0.005277</td>\n",
       "      <td>0.000934</td>\n",
       "      <td>-0.000019</td>\n",
       "      <td>-0.000626</td>\n",
       "      <td>-0.004435</td>\n",
       "      <td>-0.000796</td>\n",
       "      <td>1.000000</td>\n",
       "      <td>-0.006138</td>\n",
       "      <td>-0.003324</td>\n",
       "      <td>0.005455</td>\n",
       "      <td>-0.002418</td>\n",
       "      <td>0.022889</td>\n",
       "      <td>-0.003800</td>\n",
       "      <td>-0.002508</td>\n",
       "      <td>0.006425</td>\n",
       "    </tr>\n",
       "    <tr>\n",
       "      <th>Promo2SinceYear</th>\n",
       "      <td>0.020989</td>\n",
       "      <td>-0.001493</td>\n",
       "      <td>-0.002546</td>\n",
       "      <td>-0.024511</td>\n",
       "      <td>-0.005238</td>\n",
       "      <td>-0.027793</td>\n",
       "      <td>0.028775</td>\n",
       "      <td>0.049945</td>\n",
       "      <td>-0.015901</td>\n",
       "      <td>-0.006138</td>\n",
       "      <td>1.000000</td>\n",
       "      <td>0.002947</td>\n",
       "      <td>-0.024787</td>\n",
       "      <td>-0.001085</td>\n",
       "      <td>-0.008274</td>\n",
       "      <td>-0.016902</td>\n",
       "      <td>-0.013742</td>\n",
       "      <td>-0.139557</td>\n",
       "    </tr>\n",
       "    <tr>\n",
       "      <th>Max_TemperatureC</th>\n",
       "      <td>-0.000865</td>\n",
       "      <td>0.009737</td>\n",
       "      <td>0.028092</td>\n",
       "      <td>0.291897</td>\n",
       "      <td>0.064106</td>\n",
       "      <td>-0.007882</td>\n",
       "      <td>-0.001715</td>\n",
       "      <td>0.005308</td>\n",
       "      <td>0.009385</td>\n",
       "      <td>-0.003324</td>\n",
       "      <td>0.002947</td>\n",
       "      <td>1.000000</td>\n",
       "      <td>0.026875</td>\n",
       "      <td>0.036759</td>\n",
       "      <td>0.176447</td>\n",
       "      <td>0.112664</td>\n",
       "      <td>0.972516</td>\n",
       "      <td>-0.012482</td>\n",
       "    </tr>\n",
       "    <tr>\n",
       "      <th>Precipitationmm</th>\n",
       "      <td>0.003708</td>\n",
       "      <td>-0.003322</td>\n",
       "      <td>0.019999</td>\n",
       "      <td>0.033083</td>\n",
       "      <td>0.007879</td>\n",
       "      <td>0.039157</td>\n",
       "      <td>0.002476</td>\n",
       "      <td>-0.010235</td>\n",
       "      <td>-0.033377</td>\n",
       "      <td>0.005455</td>\n",
       "      <td>-0.024787</td>\n",
       "      <td>0.026875</td>\n",
       "      <td>1.000000</td>\n",
       "      <td>-0.007718</td>\n",
       "      <td>0.020566</td>\n",
       "      <td>0.043588</td>\n",
       "      <td>0.071965</td>\n",
       "      <td>-0.008876</td>\n",
       "    </tr>\n",
       "    <tr>\n",
       "      <th>Promo</th>\n",
       "      <td>-0.000015</td>\n",
       "      <td>-0.289268</td>\n",
       "      <td>0.309416</td>\n",
       "      <td>-0.006412</td>\n",
       "      <td>0.023990</td>\n",
       "      <td>0.003574</td>\n",
       "      <td>-0.000333</td>\n",
       "      <td>0.000324</td>\n",
       "      <td>-0.000179</td>\n",
       "      <td>-0.002418</td>\n",
       "      <td>-0.001085</td>\n",
       "      <td>0.036759</td>\n",
       "      <td>-0.007718</td>\n",
       "      <td>1.000000</td>\n",
       "      <td>0.028971</td>\n",
       "      <td>-0.313647</td>\n",
       "      <td>0.035230</td>\n",
       "      <td>-0.002108</td>\n",
       "    </tr>\n",
       "    <tr>\n",
       "      <th>SchoolHoliday</th>\n",
       "      <td>0.000526</td>\n",
       "      <td>-0.139319</td>\n",
       "      <td>-0.063546</td>\n",
       "      <td>0.118467</td>\n",
       "      <td>-0.038686</td>\n",
       "      <td>0.005815</td>\n",
       "      <td>-0.002714</td>\n",
       "      <td>-0.002263</td>\n",
       "      <td>0.034472</td>\n",
       "      <td>0.022889</td>\n",
       "      <td>-0.008274</td>\n",
       "      <td>0.176447</td>\n",
       "      <td>0.020566</td>\n",
       "      <td>0.028971</td>\n",
       "      <td>1.000000</td>\n",
       "      <td>0.090471</td>\n",
       "      <td>0.185778</td>\n",
       "      <td>-0.004208</td>\n",
       "    </tr>\n",
       "    <tr>\n",
       "      <th>trend</th>\n",
       "      <td>0.006547</td>\n",
       "      <td>0.000876</td>\n",
       "      <td>-0.191277</td>\n",
       "      <td>0.289025</td>\n",
       "      <td>0.358381</td>\n",
       "      <td>-0.055484</td>\n",
       "      <td>-0.009576</td>\n",
       "      <td>-0.031700</td>\n",
       "      <td>-0.023891</td>\n",
       "      <td>-0.003800</td>\n",
       "      <td>-0.016902</td>\n",
       "      <td>0.112664</td>\n",
       "      <td>0.043588</td>\n",
       "      <td>-0.313647</td>\n",
       "      <td>0.090471</td>\n",
       "      <td>1.000000</td>\n",
       "      <td>0.137487</td>\n",
       "      <td>-0.053574</td>\n",
       "    </tr>\n",
       "    <tr>\n",
       "      <th>Mean_TemperatureC</th>\n",
       "      <td>0.000649</td>\n",
       "      <td>0.007962</td>\n",
       "      <td>0.026783</td>\n",
       "      <td>0.342007</td>\n",
       "      <td>0.035455</td>\n",
       "      <td>0.011104</td>\n",
       "      <td>-0.000030</td>\n",
       "      <td>-0.000206</td>\n",
       "      <td>0.022518</td>\n",
       "      <td>-0.002508</td>\n",
       "      <td>-0.013742</td>\n",
       "      <td>0.972516</td>\n",
       "      <td>0.071965</td>\n",
       "      <td>0.035230</td>\n",
       "      <td>0.185778</td>\n",
       "      <td>0.137487</td>\n",
       "      <td>1.000000</td>\n",
       "      <td>-0.012021</td>\n",
       "    </tr>\n",
       "    <tr>\n",
       "      <th>CompetitionDistance</th>\n",
       "      <td>-0.023337</td>\n",
       "      <td>0.004893</td>\n",
       "      <td>0.000687</td>\n",
       "      <td>0.002604</td>\n",
       "      <td>0.000396</td>\n",
       "      <td>0.257695</td>\n",
       "      <td>0.131580</td>\n",
       "      <td>0.079155</td>\n",
       "      <td>0.027613</td>\n",
       "      <td>0.006425</td>\n",
       "      <td>-0.139557</td>\n",
       "      <td>-0.012482</td>\n",
       "      <td>-0.008876</td>\n",
       "      <td>-0.002108</td>\n",
       "      <td>-0.004208</td>\n",
       "      <td>-0.053574</td>\n",
       "      <td>-0.012021</td>\n",
       "      <td>1.000000</td>\n",
       "    </tr>\n",
       "  </tbody>\n",
       "</table>\n",
       "</div>"
      ],
      "text/plain": [
       "                        Store  DayOfWeek  Promo_bw     Month      Year  \\\n",
       "Store                1.000000   0.000343  0.000219  0.001371  0.000300   \n",
       "DayOfWeek            0.000343   1.000000  0.004746 -0.019710  0.002099   \n",
       "Promo_bw             0.000219   0.004746  1.000000  0.016442  0.025769   \n",
       "Month                0.001371  -0.019710  0.016442  1.000000 -0.268835   \n",
       "Year                 0.000300   0.002099  0.025769 -0.268835  1.000000   \n",
       "State                0.021937  -0.001956  0.004290  0.033331  0.006333   \n",
       "Assortment           0.005733   0.001215  0.000742  0.008352  0.002034   \n",
       "StoreType           -0.021149  -0.001974 -0.001004 -0.007643 -0.001492   \n",
       "Events               0.001603  -0.027584  0.061150 -0.133169  0.018925   \n",
       "StateHoliday         0.002043  -0.002699  0.006137  0.005277  0.000934   \n",
       "Promo2SinceYear      0.020989  -0.001493 -0.002546 -0.024511 -0.005238   \n",
       "Max_TemperatureC    -0.000865   0.009737  0.028092  0.291897  0.064106   \n",
       "Precipitationmm      0.003708  -0.003322  0.019999  0.033083  0.007879   \n",
       "Promo               -0.000015  -0.289268  0.309416 -0.006412  0.023990   \n",
       "SchoolHoliday        0.000526  -0.139319 -0.063546  0.118467 -0.038686   \n",
       "trend                0.006547   0.000876 -0.191277  0.289025  0.358381   \n",
       "Mean_TemperatureC    0.000649   0.007962  0.026783  0.342007  0.035455   \n",
       "CompetitionDistance -0.023337   0.004893  0.000687  0.002604  0.000396   \n",
       "\n",
       "                        State  Assortment  StoreType    Events  StateHoliday  \\\n",
       "Store                0.021937    0.005733  -0.021149  0.001603      0.002043   \n",
       "DayOfWeek           -0.001956    0.001215  -0.001974 -0.027584     -0.002699   \n",
       "Promo_bw             0.004290    0.000742  -0.001004  0.061150      0.006137   \n",
       "Month                0.033331    0.008352  -0.007643 -0.133169      0.005277   \n",
       "Year                 0.006333    0.002034  -0.001492  0.018925      0.000934   \n",
       "State                1.000000    0.113563  -0.044941  0.059103     -0.000019   \n",
       "Assortment           0.113563    1.000000   0.230834  0.004358     -0.000626   \n",
       "StoreType           -0.044941    0.230834   1.000000  0.010482     -0.004435   \n",
       "Events               0.059103    0.004358   0.010482  1.000000     -0.000796   \n",
       "StateHoliday        -0.000019   -0.000626  -0.004435 -0.000796      1.000000   \n",
       "Promo2SinceYear     -0.027793    0.028775   0.049945 -0.015901     -0.006138   \n",
       "Max_TemperatureC    -0.007882   -0.001715   0.005308  0.009385     -0.003324   \n",
       "Precipitationmm      0.039157    0.002476  -0.010235 -0.033377      0.005455   \n",
       "Promo                0.003574   -0.000333   0.000324 -0.000179     -0.002418   \n",
       "SchoolHoliday        0.005815   -0.002714  -0.002263  0.034472      0.022889   \n",
       "trend               -0.055484   -0.009576  -0.031700 -0.023891     -0.003800   \n",
       "Mean_TemperatureC    0.011104   -0.000030  -0.000206  0.022518     -0.002508   \n",
       "CompetitionDistance  0.257695    0.131580   0.079155  0.027613      0.006425   \n",
       "\n",
       "                     Promo2SinceYear  Max_TemperatureC  Precipitationmm  \\\n",
       "Store                       0.020989         -0.000865         0.003708   \n",
       "DayOfWeek                  -0.001493          0.009737        -0.003322   \n",
       "Promo_bw                   -0.002546          0.028092         0.019999   \n",
       "Month                      -0.024511          0.291897         0.033083   \n",
       "Year                       -0.005238          0.064106         0.007879   \n",
       "State                      -0.027793         -0.007882         0.039157   \n",
       "Assortment                  0.028775         -0.001715         0.002476   \n",
       "StoreType                   0.049945          0.005308        -0.010235   \n",
       "Events                     -0.015901          0.009385        -0.033377   \n",
       "StateHoliday               -0.006138         -0.003324         0.005455   \n",
       "Promo2SinceYear             1.000000          0.002947        -0.024787   \n",
       "Max_TemperatureC            0.002947          1.000000         0.026875   \n",
       "Precipitationmm            -0.024787          0.026875         1.000000   \n",
       "Promo                      -0.001085          0.036759        -0.007718   \n",
       "SchoolHoliday              -0.008274          0.176447         0.020566   \n",
       "trend                      -0.016902          0.112664         0.043588   \n",
       "Mean_TemperatureC          -0.013742          0.972516         0.071965   \n",
       "CompetitionDistance        -0.139557         -0.012482        -0.008876   \n",
       "\n",
       "                        Promo  SchoolHoliday     trend  Mean_TemperatureC  \\\n",
       "Store               -0.000015       0.000526  0.006547           0.000649   \n",
       "DayOfWeek           -0.289268      -0.139319  0.000876           0.007962   \n",
       "Promo_bw             0.309416      -0.063546 -0.191277           0.026783   \n",
       "Month               -0.006412       0.118467  0.289025           0.342007   \n",
       "Year                 0.023990      -0.038686  0.358381           0.035455   \n",
       "State                0.003574       0.005815 -0.055484           0.011104   \n",
       "Assortment          -0.000333      -0.002714 -0.009576          -0.000030   \n",
       "StoreType            0.000324      -0.002263 -0.031700          -0.000206   \n",
       "Events              -0.000179       0.034472 -0.023891           0.022518   \n",
       "StateHoliday        -0.002418       0.022889 -0.003800          -0.002508   \n",
       "Promo2SinceYear     -0.001085      -0.008274 -0.016902          -0.013742   \n",
       "Max_TemperatureC     0.036759       0.176447  0.112664           0.972516   \n",
       "Precipitationmm     -0.007718       0.020566  0.043588           0.071965   \n",
       "Promo                1.000000       0.028971 -0.313647           0.035230   \n",
       "SchoolHoliday        0.028971       1.000000  0.090471           0.185778   \n",
       "trend               -0.313647       0.090471  1.000000           0.137487   \n",
       "Mean_TemperatureC    0.035230       0.185778  0.137487           1.000000   \n",
       "CompetitionDistance -0.002108      -0.004208 -0.053574          -0.012021   \n",
       "\n",
       "                     CompetitionDistance  \n",
       "Store                          -0.023337  \n",
       "DayOfWeek                       0.004893  \n",
       "Promo_bw                        0.000687  \n",
       "Month                           0.002604  \n",
       "Year                            0.000396  \n",
       "State                           0.257695  \n",
       "Assortment                      0.131580  \n",
       "StoreType                       0.079155  \n",
       "Events                          0.027613  \n",
       "StateHoliday                    0.006425  \n",
       "Promo2SinceYear                -0.139557  \n",
       "Max_TemperatureC               -0.012482  \n",
       "Precipitationmm                -0.008876  \n",
       "Promo                          -0.002108  \n",
       "SchoolHoliday                  -0.004208  \n",
       "trend                          -0.053574  \n",
       "Mean_TemperatureC              -0.012021  \n",
       "CompetitionDistance             1.000000  "
      ]
     },
     "execution_count": 173,
     "metadata": {},
     "output_type": "execute_result"
    }
   ],
   "source": [
    "df[cat_vars+contin_vars].corr()"
   ]
  },
  {
   "cell_type": "code",
   "execution_count": 130,
   "id": "033519fe-0587-4d82-baed-c69e70fd833f",
   "metadata": {},
   "outputs": [
    {
     "data": {
      "text/html": [
       "<div>\n",
       "<style scoped>\n",
       "    .dataframe tbody tr th:only-of-type {\n",
       "        vertical-align: middle;\n",
       "    }\n",
       "\n",
       "    .dataframe tbody tr th {\n",
       "        vertical-align: top;\n",
       "    }\n",
       "\n",
       "    .dataframe thead th {\n",
       "        text-align: right;\n",
       "    }\n",
       "</style>\n",
       "<table border=\"1\" class=\"dataframe\">\n",
       "  <thead>\n",
       "    <tr style=\"text-align: right;\">\n",
       "      <th></th>\n",
       "      <th>Store</th>\n",
       "      <th>DayOfWeek</th>\n",
       "      <th>Promo_bw</th>\n",
       "      <th>Day</th>\n",
       "      <th>Month</th>\n",
       "      <th>Year</th>\n",
       "      <th>State</th>\n",
       "      <th>Assortment</th>\n",
       "      <th>StoreType</th>\n",
       "      <th>Events</th>\n",
       "      <th>StateHoliday</th>\n",
       "      <th>Promo2SinceYear</th>\n",
       "      <th>Max_TemperatureC</th>\n",
       "      <th>Precipitationmm</th>\n",
       "      <th>Promo</th>\n",
       "      <th>SchoolHoliday</th>\n",
       "      <th>Max_Wind_SpeedKm_h</th>\n",
       "      <th>trend</th>\n",
       "      <th>Mean_TemperatureC</th>\n",
       "    </tr>\n",
       "  </thead>\n",
       "  <tbody>\n",
       "    <tr>\n",
       "      <th>uniques</th>\n",
       "      <td>1115</td>\n",
       "      <td>7</td>\n",
       "      <td>6</td>\n",
       "      <td>31</td>\n",
       "      <td>12</td>\n",
       "      <td>3</td>\n",
       "      <td>12</td>\n",
       "      <td>3</td>\n",
       "      <td>4</td>\n",
       "      <td>22</td>\n",
       "      <td>4</td>\n",
       "      <td>8</td>\n",
       "      <td>50</td>\n",
       "      <td>39</td>\n",
       "      <td>2</td>\n",
       "      <td>2</td>\n",
       "      <td>42</td>\n",
       "      <td>67</td>\n",
       "      <td>45</td>\n",
       "    </tr>\n",
       "    <tr>\n",
       "      <th>types</th>\n",
       "      <td>numeric</td>\n",
       "      <td>numeric</td>\n",
       "      <td>numeric</td>\n",
       "      <td>numeric</td>\n",
       "      <td>numeric</td>\n",
       "      <td>numeric</td>\n",
       "      <td>numeric</td>\n",
       "      <td>numeric</td>\n",
       "      <td>numeric</td>\n",
       "      <td>numeric</td>\n",
       "      <td>numeric</td>\n",
       "      <td>numeric</td>\n",
       "      <td>numeric</td>\n",
       "      <td>numeric</td>\n",
       "      <td>bool</td>\n",
       "      <td>bool</td>\n",
       "      <td>numeric</td>\n",
       "      <td>numeric</td>\n",
       "      <td>numeric</td>\n",
       "    </tr>\n",
       "    <tr>\n",
       "      <th>missing</th>\n",
       "      <td>0</td>\n",
       "      <td>0</td>\n",
       "      <td>0</td>\n",
       "      <td>0</td>\n",
       "      <td>0</td>\n",
       "      <td>0</td>\n",
       "      <td>0</td>\n",
       "      <td>0</td>\n",
       "      <td>0</td>\n",
       "      <td>0</td>\n",
       "      <td>0</td>\n",
       "      <td>0</td>\n",
       "      <td>0</td>\n",
       "      <td>0</td>\n",
       "      <td>0</td>\n",
       "      <td>0</td>\n",
       "      <td>0</td>\n",
       "      <td>0</td>\n",
       "      <td>0</td>\n",
       "    </tr>\n",
       "  </tbody>\n",
       "</table>\n",
       "</div>"
      ],
      "text/plain": [
       "           Store DayOfWeek Promo_bw      Day    Month     Year    State  \\\n",
       "uniques     1115         7        6       31       12        3       12   \n",
       "types    numeric   numeric  numeric  numeric  numeric  numeric  numeric   \n",
       "missing        0         0        0        0        0        0        0   \n",
       "\n",
       "        Assortment StoreType   Events StateHoliday Promo2SinceYear  \\\n",
       "uniques          3         4       22            4               8   \n",
       "types      numeric   numeric  numeric      numeric         numeric   \n",
       "missing          0         0        0            0               0   \n",
       "\n",
       "        Max_TemperatureC Precipitationmm Promo SchoolHoliday  \\\n",
       "uniques               50              39     2             2   \n",
       "types            numeric         numeric  bool          bool   \n",
       "missing                0               0     0             0   \n",
       "\n",
       "        Max_Wind_SpeedKm_h    trend Mean_TemperatureC  \n",
       "uniques                 42       67                45  \n",
       "types              numeric  numeric           numeric  \n",
       "missing                  0        0                 0  "
      ]
     },
     "execution_count": 130,
     "metadata": {},
     "output_type": "execute_result"
    }
   ],
   "source": [
    "DataFrameSummary(df[cat_vars+contin_vars]).summary().loc[['uniques', 'types', 'missing']]"
   ]
  },
  {
   "cell_type": "code",
   "execution_count": 131,
   "id": "69893c4f-6e1d-42b1-8d00-7b4c37b9061f",
   "metadata": {},
   "outputs": [
    {
     "data": {
      "text/html": [
       "<div>\n",
       "<style scoped>\n",
       "    .dataframe tbody tr th:only-of-type {\n",
       "        vertical-align: middle;\n",
       "    }\n",
       "\n",
       "    .dataframe tbody tr th {\n",
       "        vertical-align: top;\n",
       "    }\n",
       "\n",
       "    .dataframe thead th {\n",
       "        text-align: right;\n",
       "    }\n",
       "</style>\n",
       "<table border=\"1\" class=\"dataframe\">\n",
       "  <thead>\n",
       "    <tr style=\"text-align: right;\">\n",
       "      <th></th>\n",
       "      <th>uniques</th>\n",
       "      <th>missing</th>\n",
       "    </tr>\n",
       "    <tr>\n",
       "      <th>types</th>\n",
       "      <th></th>\n",
       "      <th></th>\n",
       "    </tr>\n",
       "  </thead>\n",
       "  <tbody>\n",
       "    <tr>\n",
       "      <th>bool</th>\n",
       "      <td>2</td>\n",
       "      <td>0</td>\n",
       "    </tr>\n",
       "    <tr>\n",
       "      <th>numeric</th>\n",
       "      <td>1115</td>\n",
       "      <td>0</td>\n",
       "    </tr>\n",
       "  </tbody>\n",
       "</table>\n",
       "</div>"
      ],
      "text/plain": [
       "         uniques  missing\n",
       "types                    \n",
       "bool           2        0\n",
       "numeric     1115        0"
      ]
     },
     "execution_count": 131,
     "metadata": {},
     "output_type": "execute_result"
    }
   ],
   "source": [
    "DataFrameSummary(df[cat_vars+contin_vars]).summary().loc[['uniques', 'types', 'missing']].T.groupby('types').max()"
   ]
  },
  {
   "cell_type": "markdown",
   "id": "6d0f59e0-ed4b-4439-a247-3e7516f34eb8",
   "metadata": {},
   "source": [
    "# Data Model"
   ]
  },
  {
   "cell_type": "code",
   "execution_count": 174,
   "id": "718add5b-faec-48c9-b42f-e14f4395e92f",
   "metadata": {},
   "outputs": [
    {
     "data": {
      "text/plain": [
       "11"
      ]
     },
     "execution_count": 174,
     "metadata": {},
     "output_type": "execute_result"
    }
   ],
   "source": [
    "# cat_vars = ['Store','DayOfWeek','Year','Month','Day','StateHoliday','CompetitionMonthsOpen',\n",
    "#     'Promo2Weeks','StoreType','Assortment','PromoInterval',\n",
    "#     'CompetitionOpenSinceYear','Promo2SinceYear','State',\n",
    "#     'Week','Events','Promo_fw','Promo_bw','StateHoliday_bool_fw', 'StateHoliday_bool_bw','SchoolHoliday_fw','SchoolHoliday_bw']\n",
    "\n",
    "# cat_vars = ['Store', 'DayOfWeek', 'Year', 'Month', 'Day', 'StateHoliday', 'CompetitionMonthsOpen', 'Promo2Weeks', \n",
    "#             'StoreType', 'Assortment', 'PromoInterval', 'CompetitionOpenSinceYear', 'Promo2SinceYear', 'State', \n",
    "#             'Week', 'Events', 'Promo_fw', 'Promo_bw', 'StateHoliday_bool_fw', 'StateHoliday_bool_bw', 'SchoolHoliday_fw', 'SchoolHoliday_bw']\n",
    "\n",
    "len(cat_vars)"
   ]
  },
  {
   "cell_type": "code",
   "execution_count": 175,
   "id": "4cdbc9b4-9791-4a70-915f-9bb1f358ca09",
   "metadata": {},
   "outputs": [
    {
     "data": {
      "text/plain": [
       "7"
      ]
     },
     "execution_count": 175,
     "metadata": {},
     "output_type": "execute_result"
    }
   ],
   "source": [
    "# contin_vars = ['CompetitionDistance', \n",
    "#    'Max_TemperatureC', 'Mean_TemperatureC', 'Min_TemperatureC', 'Precipitationmm',\n",
    "#    'Max_Humidity', 'Mean_Humidity', 'Min_Humidity', 'Max_Wind_SpeedKm_h', \n",
    "#    'Mean_Wind_SpeedKm_h', 'CloudCover', 'trend', 'trend_DE',\n",
    "#    'AfterStateHoliday_bool', 'BeforeStateHoliday_bool', 'Promo', 'SchoolHoliday', 'StateHoliday_bool']\n",
    "len(contin_vars)"
   ]
  },
  {
   "cell_type": "code",
   "execution_count": 134,
   "id": "ba1a5319-267f-4bcd-afd7-cf32f6caf88d",
   "metadata": {},
   "outputs": [
    {
     "data": {
      "text/plain": [
       "(12, 7)"
      ]
     },
     "execution_count": 134,
     "metadata": {},
     "output_type": "execute_result"
    }
   ],
   "source": [
    "# cat_vars = ['Store', 'DayOfWeek', 'Promo_bw', 'Day', 'Month', 'Year', 'State', 'Assortment', 'StoreType', 'Events', 'StateHoliday', 'Promo2SinceYear'] #, 'PromoInterval', 'Promo2Weeks']\n",
    "\n",
    "# contin_vars = [ 'Max_TemperatureC', 'Precipitationmm', 'Promo', 'SchoolHoliday', 'Max_Wind_SpeedKm_h', 'trend', 'Mean_TemperatureC'] #, 'Max_Wind_SpeedKm_h'] #, 'CompetitionDistance'] #,'BeforeStateHoliday_bool']\n",
    "len(cat_vars),len(contin_vars)"
   ]
  },
  {
   "cell_type": "code",
   "execution_count": 135,
   "id": "dce4f6e3-da89-40de-a5a5-a9c321aab980",
   "metadata": {},
   "outputs": [],
   "source": [
    "# cat_vars = ['DayOfWeek','Assortment','PromoInterval','Promo2SinceYear','Promo_fw','StateHoliday_bool_fw']\n",
    "# contin_vars = ['Promo']"
   ]
  },
  {
   "cell_type": "code",
   "execution_count": 136,
   "id": "bae96486-f419-451d-82e8-998c77690229",
   "metadata": {},
   "outputs": [
    {
     "data": {
      "text/plain": [
       "{'AfterPromo',\n",
       " 'AfterSchoolHoliday',\n",
       " 'AfterStateHoliday_bool',\n",
       " 'BeforePromo',\n",
       " 'BeforeSchoolHoliday',\n",
       " 'BeforeStateHoliday_bool',\n",
       " 'CloudCover',\n",
       " 'CompetitionDaysOpen',\n",
       " 'CompetitionDistance',\n",
       " 'CompetitionMonthsOpen',\n",
       " 'CompetitionOpenSince',\n",
       " 'CompetitionOpenSinceMonth',\n",
       " 'CompetitionOpenSinceYear',\n",
       " 'Customers',\n",
       " 'Date',\n",
       " 'Date_DE',\n",
       " 'Date_y',\n",
       " 'Day_DE',\n",
       " 'Day_y',\n",
       " 'Dew_PointC',\n",
       " 'Max_Gust_SpeedKm_h',\n",
       " 'Max_Humidity',\n",
       " 'Max_Sea_Level_PressurehPa',\n",
       " 'Max_VisibilityKm',\n",
       " 'MeanDew_PointC',\n",
       " 'Mean_Humidity',\n",
       " 'Mean_Sea_Level_PressurehPa',\n",
       " 'Mean_VisibilityKm',\n",
       " 'Mean_Wind_SpeedKm_h',\n",
       " 'Min_DewpointC',\n",
       " 'Min_Humidity',\n",
       " 'Min_Sea_Level_PressurehPa',\n",
       " 'Min_TemperatureC',\n",
       " 'Min_VisibilitykM',\n",
       " 'Month_DE',\n",
       " 'Month_y',\n",
       " 'Open',\n",
       " 'Promo2',\n",
       " 'Promo2Days',\n",
       " 'Promo2Since',\n",
       " 'Promo2SinceWeek',\n",
       " 'Promo2Weeks',\n",
       " 'PromoInterval',\n",
       " 'Promo_fw',\n",
       " 'Sales',\n",
       " 'SchoolHoliday_bw',\n",
       " 'SchoolHoliday_fw',\n",
       " 'StateHoliday_bool',\n",
       " 'StateHoliday_bool_bw',\n",
       " 'StateHoliday_bool_fw',\n",
       " 'StateName',\n",
       " 'State_DE',\n",
       " 'Week',\n",
       " 'Week_y',\n",
       " 'WindDirDegrees',\n",
       " 'Year_y',\n",
       " 'file',\n",
       " 'file_DE',\n",
       " 'file_y',\n",
       " 'trend_DE',\n",
       " 'week',\n",
       " 'week_DE'}"
      ]
     },
     "execution_count": 136,
     "metadata": {},
     "output_type": "execute_result"
    }
   ],
   "source": [
    "# Check all columns on df are consistent with name of variables\n",
    "# display(set(contin_vars+cat_vars))\n",
    "# display(set(df.columns))\n",
    "set(df.columns)-set(contin_vars+cat_vars)"
   ]
  },
  {
   "cell_type": "code",
   "execution_count": 137,
   "id": "1ffd4297-050e-4e98-a560-9851bb6966cd",
   "metadata": {},
   "outputs": [],
   "source": [
    "def rmspe(y_true, y_pred):\n",
    "    return np.sqrt(np.mean(((y_true - y_pred)/y_true)**2))"
   ]
  },
  {
   "cell_type": "code",
   "execution_count": 138,
   "id": "f682b6a2-46d4-473b-8be2-092c81c1cb5a",
   "metadata": {},
   "outputs": [],
   "source": [
    "def calculate_RMSE(X, y, model, log_output=True):\n",
    "    y_preds = np.exp(model.predict(X, verbose=1)*max_log_y)\n",
    "    return np.sqrt((((y - y_preds)/y)**2).sum()/len(y_preds))"
   ]
  },
  {
   "cell_type": "markdown",
   "id": "d5a21f96-053d-49c0-8be7-ffdbd3cf3912",
   "metadata": {},
   "source": [
    "### Split Data for Train and Validation"
   ]
  },
  {
   "cell_type": "code",
   "execution_count": 139,
   "id": "bac56791-10ce-4fc9-ac74-e8fb2ab7ed91",
   "metadata": {},
   "outputs": [],
   "source": [
    "def split_cols(arr): return np.hsplit(arr,arr.shape[1])"
   ]
  },
  {
   "cell_type": "code",
   "execution_count": 140,
   "id": "a431d568-c1e7-4bda-a148-1ca1ee8d424d",
   "metadata": {},
   "outputs": [],
   "source": [
    "split_contins = False\n",
    "def split_data():\n",
    "    if split_contins:\n",
    "        map_train = split_cols(cats_trn) + split_cols(contins_trn)\n",
    "        map_valid = split_cols(cats_val) + split_cols(contins_val)\n",
    "    else:\n",
    "        map_train = cats_trn+contins_trn\n",
    "        map_valid = cats_val+contins_val\n",
    "    return map_train, map_valid"
   ]
  },
  {
   "cell_type": "code",
   "execution_count": 176,
   "id": "993be6a3-eeb9-42b0-bbd9-bbaf13555616",
   "metadata": {},
   "outputs": [
    {
     "name": "stdout",
     "output_type": "stream",
     "text": [
      "X_train[ <class 'pandas.core.frame.DataFrame'> ]:  (759904, 18)       y_train[ <class 'pandas.core.series.Series'> ]:  (759904,)\n",
      "X_valid[ <class 'pandas.core.frame.DataFrame'> ]:  (84434, 18)       y_valid[ <class 'pandas.core.series.Series'> ]:  (84434,)\n"
     ]
    },
    {
     "data": {
      "text/plain": [
       "'test_size: '"
      ]
     },
     "metadata": {},
     "output_type": "display_data"
    },
    {
     "data": {
      "text/plain": [
       "84434"
      ]
     },
     "metadata": {},
     "output_type": "display_data"
    }
   ],
   "source": [
    "from sklearn.model_selection import TimeSeriesSplit\n",
    "n=len(df.Sales)\n",
    "\n",
    "train_ratio=0.9\n",
    "train_size = int(n*train_ratio)\n",
    "# contins_trn, contins_val = df[contin_vars].loc[:train_size-1], df[contin_vars].loc[train_size:]\n",
    "# cats_trn, cats_val       = df[cat_var_dict.keys()].loc[:train_size-1], df[cat_var_dict.keys()].loc[train_size:]\n",
    "\n",
    "X_train,X_valid                  = df[cat_vars+contin_vars].loc[:train_size-1], df[cat_vars+contin_vars].loc[train_size:]\n",
    "\n",
    "max_y_log                        = (np.log(df.Sales)).values.max()\n",
    "y_train, y_valid                 = np.log(df.Sales.loc[:train_size-1])/max_y_log, np.log(df.Sales.loc[train_size:])/max_y_log\n",
    "\n",
    "print(\"X_train[\",type(X_train),\"]: \",X_train.shape,\"      y_train[\",type(y_train),\"]: \",y_train.shape)\n",
    "print(\"X_valid[\",type(X_train),\"]: \",X_valid.shape,\"      y_valid[\",type(y_valid),\"]: \",y_valid.shape)\n",
    "\n",
    "tscv = TimeSeriesSplit(n_splits=2, test_size=(n - train_size))\n",
    "display('test_size: ',(n - train_size))"
   ]
  },
  {
   "cell_type": "code",
   "execution_count": 177,
   "id": "7559cfd5-db56-4652-80ce-868abcff109a",
   "metadata": {},
   "outputs": [
    {
     "name": "stdout",
     "output_type": "stream",
     "text": [
      "-----------\n",
      "[     0      1      2 ... 675467 675468 675469]\n",
      "[675470 675471 675472 ... 759901 759902 759903]\n",
      "-----------\n",
      "[     0      1      2 ... 759901 759902 759903]\n",
      "[759904 759905 759906 ... 844335 844336 844337]\n"
     ]
    }
   ],
   "source": [
    "for train_index, test_index in tscv.split(df[cat_vars+contin_vars]):\n",
    "    print(\"-----------\")\n",
    "    print(train_index)\n",
    "    print(test_index)"
   ]
  },
  {
   "cell_type": "code",
   "execution_count": 163,
   "id": "fc742d6d-a7b4-4fdb-b3ed-0b2836054bc2",
   "metadata": {},
   "outputs": [
    {
     "data": {
      "text/plain": [
       "(844338, 17)"
      ]
     },
     "execution_count": 163,
     "metadata": {},
     "output_type": "execute_result"
    }
   ],
   "source": [
    "df[cat_vars+contin_vars].shape"
   ]
  },
  {
   "cell_type": "markdown",
   "id": "4df903c5-ec35-4a41-a626-d96726a60e1a",
   "metadata": {},
   "source": [
    "### Search Hyperparameters with GridSearch"
   ]
  },
  {
   "cell_type": "code",
   "execution_count": 178,
   "id": "af73a41b-cec9-452a-9d05-baaa84abbee7",
   "metadata": {},
   "outputs": [],
   "source": [
    "from sklearn.model_selection import GridSearchCV\n",
    "from sklearn.metrics import make_scorer"
   ]
  },
  {
   "cell_type": "code",
   "execution_count": 179,
   "id": "e2182a8f-f5c8-418a-a1ef-b6606b7589dd",
   "metadata": {},
   "outputs": [],
   "source": [
    "parameters = {\n",
    "    'min_child_samples' : [7],\n",
    "    'n_estimators'      : [7000],\n",
    "    'learning_rate'     : [0.01],\n",
    "    'min_data_in_leaf'  : [500],   # setting it to hundreds or thousands is enough for a large dataset\n",
    "    'max_depth'         : [7],     # max_depth=7 the depth-wise tree can get good accuracy\n",
    "    'num_leaves'        : [70],    # we should let it be smaller than 2^(max_depth)\n",
    "    'reg_alpha'         : [0.1],   # l1\n",
    "}\n",
    "\n",
    "grid_search_rmspe = make_scorer(rmspe,greater_is_better=False)\n",
    "model = LGBMRegressor()"
   ]
  },
  {
   "cell_type": "code",
   "execution_count": 180,
   "id": "20952f1e-1f99-49a0-b2cf-736300d8989c",
   "metadata": {},
   "outputs": [],
   "source": [
    "clf = GridSearchCV(model, parameters, n_jobs = 4, verbose=100, cv=tscv, scoring=grid_search_rmspe)"
   ]
  },
  {
   "cell_type": "markdown",
   "id": "c5fc5a9f-edfa-4018-94ac-cd81e1cb887b",
   "metadata": {},
   "source": [
    "### Create Model"
   ]
  },
  {
   "cell_type": "code",
   "execution_count": 183,
   "id": "1a48ed13-9707-4ac3-b3b2-33a40c39940a",
   "metadata": {},
   "outputs": [],
   "source": [
    "def train(model, X_train, X_valid):    \n",
    "    fit_params={\"early_stopping_rounds\":100, \n",
    "                \"eval_metric\" : 'l2',\n",
    "                \"eval_set\" : [(X_valid, y_valid)],\n",
    "                'verbose': 100,\n",
    "                'feature_name': 'auto',\n",
    "                'categorical_feature': cat_vars\n",
    "               }\n",
    "\n",
    "    return model.fit(X_train, y_train, **fit_params)"
   ]
  },
  {
   "cell_type": "markdown",
   "id": "6ea66395-8e2d-49a0-acb0-6bf9232a9cc9",
   "metadata": {},
   "source": [
    "### Train Model and Split Data"
   ]
  },
  {
   "cell_type": "code",
   "execution_count": 184,
   "id": "abf7a3bd-4bbc-4325-9073-2432f311b6a5",
   "metadata": {},
   "outputs": [
    {
     "name": "stdout",
     "output_type": "stream",
     "text": [
      "Fitting 2 folds for each of 1 candidates, totalling 2 fits\n"
     ]
    },
    {
     "name": "stderr",
     "output_type": "stream",
     "text": [
      "/home/facu/anaconda3/envs/tf-gpu/lib/python3.9/site-packages/lightgbm/basic.py:1702: UserWarning: Using categorical_feature in Dataset.\n",
      "  _log_warning('Using categorical_feature in Dataset.')\n",
      "/home/facu/anaconda3/envs/tf-gpu/lib/python3.9/site-packages/lightgbm/basic.py:1705: UserWarning: categorical_feature in Dataset is overridden.\n",
      "New categorical_feature is ['Assortment', 'DayOfWeek', 'Events', 'Month', 'Promo2SinceYear', 'Promo_bw', 'State', 'StateHoliday', 'Store', 'StoreType', 'Year']\n",
      "  _log_warning('categorical_feature in Dataset is overridden.\\n'\n",
      "/home/facu/anaconda3/envs/tf-gpu/lib/python3.9/site-packages/lightgbm/basic.py:1702: UserWarning: Using categorical_feature in Dataset.\n",
      "  _log_warning('Using categorical_feature in Dataset.')\n",
      "/home/facu/anaconda3/envs/tf-gpu/lib/python3.9/site-packages/lightgbm/basic.py:1705: UserWarning: categorical_feature in Dataset is overridden.\n",
      "New categorical_feature is ['Assortment', 'DayOfWeek', 'Events', 'Month', 'Promo2SinceYear', 'Promo_bw', 'State', 'StateHoliday', 'Store', 'StoreType', 'Year']\n",
      "  _log_warning('categorical_feature in Dataset is overridden.\\n'\n",
      "/home/facu/anaconda3/envs/tf-gpu/lib/python3.9/site-packages/lightgbm/basic.py:1433: UserWarning: Overriding the parameters from Reference Dataset.\n",
      "  _log_warning('Overriding the parameters from Reference Dataset.')\n",
      "/home/facu/anaconda3/envs/tf-gpu/lib/python3.9/site-packages/lightgbm/basic.py:1245: UserWarning: categorical_column in param dict is overridden.\n",
      "  _log_warning('{} in param dict is overridden.'.format(cat_alias))\n",
      "/home/facu/anaconda3/envs/tf-gpu/lib/python3.9/site-packages/lightgbm/basic.py:1433: UserWarning: Overriding the parameters from Reference Dataset.\n",
      "  _log_warning('Overriding the parameters from Reference Dataset.')\n",
      "/home/facu/anaconda3/envs/tf-gpu/lib/python3.9/site-packages/lightgbm/basic.py:1245: UserWarning: categorical_column in param dict is overridden.\n",
      "  _log_warning('{} in param dict is overridden.'.format(cat_alias))\n",
      "/home/facu/anaconda3/envs/tf-gpu/lib/python3.9/site-packages/lightgbm/basic.py:1702: UserWarning: Using categorical_feature in Dataset.\n",
      "  _log_warning('Using categorical_feature in Dataset.')\n",
      "/home/facu/anaconda3/envs/tf-gpu/lib/python3.9/site-packages/lightgbm/basic.py:1705: UserWarning: categorical_feature in Dataset is overridden.\n",
      "New categorical_feature is ['Assortment', 'DayOfWeek', 'Events', 'Month', 'Promo2SinceYear', 'Promo_bw', 'State', 'StateHoliday', 'Store', 'StoreType', 'Year']\n",
      "  _log_warning('categorical_feature in Dataset is overridden.\\n'\n"
     ]
    },
    {
     "name": "stdout",
     "output_type": "stream",
     "text": [
      "[LightGBM] [Warning] min_data_in_leaf is set=500, min_child_samples=7 will be ignored. Current value: min_data_in_leaf=500\n"
     ]
    },
    {
     "name": "stderr",
     "output_type": "stream",
     "text": [
      "/home/facu/anaconda3/envs/tf-gpu/lib/python3.9/site-packages/lightgbm/basic.py:1433: UserWarning: Overriding the parameters from Reference Dataset.\n",
      "  _log_warning('Overriding the parameters from Reference Dataset.')\n",
      "/home/facu/anaconda3/envs/tf-gpu/lib/python3.9/site-packages/lightgbm/basic.py:1245: UserWarning: categorical_column in param dict is overridden.\n",
      "  _log_warning('{} in param dict is overridden.'.format(cat_alias))\n"
     ]
    },
    {
     "name": "stdout",
     "output_type": "stream",
     "text": [
      "Training until validation scores don't improve for 100 rounds\n",
      "[100]\tvalid_0's l2: 0.000922636\n",
      "[200]\tvalid_0's l2: 0.000687537\n",
      "[300]\tvalid_0's l2: 0.000571059\n",
      "[400]\tvalid_0's l2: 0.000503195\n",
      "[500]\tvalid_0's l2: 0.000457982\n",
      "[600]\tvalid_0's l2: 0.00042327\n",
      "[700]\tvalid_0's l2: 0.000404624\n",
      "[800]\tvalid_0's l2: 0.000388088\n",
      "[900]\tvalid_0's l2: 0.000373186\n",
      "[1000]\tvalid_0's l2: 0.00035838\n",
      "[CV 2/2; 1/1] START learning_rate=0.01, max_depth=7, min_child_samples=7, min_data_in_leaf=500, n_estimators=7000, num_leaves=70, reg_alpha=0.1\n",
      "[LightGBM] [Warning] min_data_in_leaf is set=500, min_child_samples=7 will be ignored. Current value: min_data_in_leaf=500\n",
      "Training until validation scores don't improve for 100 rounds\n",
      "[100]\tvalid_0's l2: 0.000931643\n",
      "[200]\tvalid_0's l2: 0.000696952\n",
      "[300]\tvalid_0's l2: 0.000576972\n",
      "[400]\tvalid_0's l2: 0.000508715\n",
      "[500]\tvalid_0's l2: 0.000466797\n",
      "[600]\tvalid_0's l2: 0.000435716\n",
      "[700]\tvalid_0's l2: 0.000417298\n",
      "[800]\tvalid_0's l2: 0.000397828\n",
      "[900]\tvalid_0's l2: 0.000384178\n",
      "[1000]\tvalid_0's l2: 0.000372514\n",
      "[1100]\tvalid_0's l2: 0.000363251\n",
      "[1200]\tvalid_0's l2: 0.000356708\n",
      "[1300]\tvalid_0's l2: 0.000350356\n",
      "[1400]\tvalid_0's l2: 0.000344756\n",
      "[1500]\tvalid_0's l2: 0.000339897\n",
      "[1600]\tvalid_0's l2: 0.000336435\n",
      "[1700]\tvalid_0's l2: 0.000332426\n",
      "[1800]\tvalid_0's l2: 0.000328688\n",
      "[1900]\tvalid_0's l2: 0.000325643\n",
      "[2000]\tvalid_0's l2: 0.000323676\n",
      "[2100]\tvalid_0's l2: 0.000321381\n",
      "[2200]\tvalid_0's l2: 0.000318437\n",
      "[2300]\tvalid_0's l2: 0.000316483\n",
      "[2400]\tvalid_0's l2: 0.000314641\n",
      "[2500]\tvalid_0's l2: 0.000312554\n",
      "[2600]\tvalid_0's l2: 0.000310487\n",
      "[2700]\tvalid_0's l2: 0.00030895\n",
      "[2800]\tvalid_0's l2: 0.000308036\n",
      "[2900]\tvalid_0's l2: 0.000306778\n",
      "[3000]\tvalid_0's l2: 0.000305984\n",
      "[3100]\tvalid_0's l2: 0.000305381\n",
      "[3200]\tvalid_0's l2: 0.0003052\n",
      "[3300]\tvalid_0's l2: 0.000304211\n",
      "[3400]\tvalid_0's l2: 0.000303591\n",
      "[3500]\tvalid_0's l2: 0.000302826\n",
      "[3600]\tvalid_0's l2: 0.000301734\n",
      "[3700]\tvalid_0's l2: 0.000300783\n",
      "[3800]\tvalid_0's l2: 0.00030005\n",
      "[3900]\tvalid_0's l2: 0.000299388\n",
      "[4000]\tvalid_0's l2: 0.000298934\n",
      "[4100]\tvalid_0's l2: 0.00029862\n",
      "[4200]\tvalid_0's l2: 0.000298682\n",
      "Early stopping, best iteration is:\n",
      "[4150]\tvalid_0's l2: 0.000298474\n",
      "[CV 2/2; 1/1] END learning_rate=0.01, max_depth=7, min_child_samples=7, min_data_in_leaf=500, n_estimators=7000, num_leaves=70, reg_alpha=0.1;, score=-0.021 total time= 6.4min\n",
      "[1100]\tvalid_0's l2: 0.000346946\n",
      "[1200]\tvalid_0's l2: 0.000337572\n",
      "[1300]\tvalid_0's l2: 0.00032991\n",
      "[1400]\tvalid_0's l2: 0.000321799\n",
      "[1500]\tvalid_0's l2: 0.000313778\n",
      "[1600]\tvalid_0's l2: 0.000308279\n",
      "[1700]\tvalid_0's l2: 0.000303334\n",
      "[1800]\tvalid_0's l2: 0.000299828\n",
      "[1900]\tvalid_0's l2: 0.000295691\n",
      "[2000]\tvalid_0's l2: 0.000291938\n",
      "[2100]\tvalid_0's l2: 0.000288723\n",
      "[2200]\tvalid_0's l2: 0.000286353\n",
      "[2300]\tvalid_0's l2: 0.000284385\n",
      "[2400]\tvalid_0's l2: 0.000282785\n",
      "[2500]\tvalid_0's l2: 0.000281531\n",
      "[2600]\tvalid_0's l2: 0.000280246\n",
      "[2700]\tvalid_0's l2: 0.000278538\n",
      "[2800]\tvalid_0's l2: 0.00027759\n",
      "[2900]\tvalid_0's l2: 0.000276609\n",
      "[3000]\tvalid_0's l2: 0.000275795\n",
      "[3100]\tvalid_0's l2: 0.000275258\n",
      "[3200]\tvalid_0's l2: 0.000274584\n",
      "[3300]\tvalid_0's l2: 0.000273728\n",
      "[3400]\tvalid_0's l2: 0.000272824\n",
      "[3500]\tvalid_0's l2: 0.000272039\n",
      "[3600]\tvalid_0's l2: 0.000271378\n",
      "[3700]\tvalid_0's l2: 0.000271033\n",
      "[3800]\tvalid_0's l2: 0.000270542\n",
      "[3900]\tvalid_0's l2: 0.000270091\n",
      "[4000]\tvalid_0's l2: 0.000269657\n",
      "[4100]\tvalid_0's l2: 0.000269328\n",
      "[4200]\tvalid_0's l2: 0.000269081\n",
      "[4300]\tvalid_0's l2: 0.000268876\n",
      "[4400]\tvalid_0's l2: 0.000268744\n",
      "[4500]\tvalid_0's l2: 0.000268527\n",
      "[4600]\tvalid_0's l2: 0.00026837\n",
      "[4700]\tvalid_0's l2: 0.000268082\n",
      "[4800]\tvalid_0's l2: 0.000267579\n",
      "[4900]\tvalid_0's l2: 0.000267623\n",
      "Early stopping, best iteration is:\n",
      "[4801]\tvalid_0's l2: 0.000267572\n"
     ]
    },
    {
     "data": {
      "text/html": [
       "<style>#sk-container-id-7 {color: black;background-color: white;}#sk-container-id-7 pre{padding: 0;}#sk-container-id-7 div.sk-toggleable {background-color: white;}#sk-container-id-7 label.sk-toggleable__label {cursor: pointer;display: block;width: 100%;margin-bottom: 0;padding: 0.3em;box-sizing: border-box;text-align: center;}#sk-container-id-7 label.sk-toggleable__label-arrow:before {content: \"▸\";float: left;margin-right: 0.25em;color: #696969;}#sk-container-id-7 label.sk-toggleable__label-arrow:hover:before {color: black;}#sk-container-id-7 div.sk-estimator:hover label.sk-toggleable__label-arrow:before {color: black;}#sk-container-id-7 div.sk-toggleable__content {max-height: 0;max-width: 0;overflow: hidden;text-align: left;background-color: #f0f8ff;}#sk-container-id-7 div.sk-toggleable__content pre {margin: 0.2em;color: black;border-radius: 0.25em;background-color: #f0f8ff;}#sk-container-id-7 input.sk-toggleable__control:checked~div.sk-toggleable__content {max-height: 200px;max-width: 100%;overflow: auto;}#sk-container-id-7 input.sk-toggleable__control:checked~label.sk-toggleable__label-arrow:before {content: \"▾\";}#sk-container-id-7 div.sk-estimator input.sk-toggleable__control:checked~label.sk-toggleable__label {background-color: #d4ebff;}#sk-container-id-7 div.sk-label input.sk-toggleable__control:checked~label.sk-toggleable__label {background-color: #d4ebff;}#sk-container-id-7 input.sk-hidden--visually {border: 0;clip: rect(1px 1px 1px 1px);clip: rect(1px, 1px, 1px, 1px);height: 1px;margin: -1px;overflow: hidden;padding: 0;position: absolute;width: 1px;}#sk-container-id-7 div.sk-estimator {font-family: monospace;background-color: #f0f8ff;border: 1px dotted black;border-radius: 0.25em;box-sizing: border-box;margin-bottom: 0.5em;}#sk-container-id-7 div.sk-estimator:hover {background-color: #d4ebff;}#sk-container-id-7 div.sk-parallel-item::after {content: \"\";width: 100%;border-bottom: 1px solid gray;flex-grow: 1;}#sk-container-id-7 div.sk-label:hover label.sk-toggleable__label {background-color: #d4ebff;}#sk-container-id-7 div.sk-serial::before {content: \"\";position: absolute;border-left: 1px solid gray;box-sizing: border-box;top: 0;bottom: 0;left: 50%;z-index: 0;}#sk-container-id-7 div.sk-serial {display: flex;flex-direction: column;align-items: center;background-color: white;padding-right: 0.2em;padding-left: 0.2em;position: relative;}#sk-container-id-7 div.sk-item {position: relative;z-index: 1;}#sk-container-id-7 div.sk-parallel {display: flex;align-items: stretch;justify-content: center;background-color: white;position: relative;}#sk-container-id-7 div.sk-item::before, #sk-container-id-7 div.sk-parallel-item::before {content: \"\";position: absolute;border-left: 1px solid gray;box-sizing: border-box;top: 0;bottom: 0;left: 50%;z-index: -1;}#sk-container-id-7 div.sk-parallel-item {display: flex;flex-direction: column;z-index: 1;position: relative;background-color: white;}#sk-container-id-7 div.sk-parallel-item:first-child::after {align-self: flex-end;width: 50%;}#sk-container-id-7 div.sk-parallel-item:last-child::after {align-self: flex-start;width: 50%;}#sk-container-id-7 div.sk-parallel-item:only-child::after {width: 0;}#sk-container-id-7 div.sk-dashed-wrapped {border: 1px dashed gray;margin: 0 0.4em 0.5em 0.4em;box-sizing: border-box;padding-bottom: 0.4em;background-color: white;}#sk-container-id-7 div.sk-label label {font-family: monospace;font-weight: bold;display: inline-block;line-height: 1.2em;}#sk-container-id-7 div.sk-label-container {text-align: center;}#sk-container-id-7 div.sk-container {/* jupyter's `normalize.less` sets `[hidden] { display: none; }` but bootstrap.min.css set `[hidden] { display: none !important; }` so we also need the `!important` here to be able to override the default hidden behavior on the sphinx rendered scikit-learn.org. See: https://github.com/scikit-learn/scikit-learn/issues/21755 */display: inline-block !important;position: relative;}#sk-container-id-7 div.sk-text-repr-fallback {display: none;}</style><div id=\"sk-container-id-7\" class=\"sk-top-container\"><div class=\"sk-text-repr-fallback\"><pre>GridSearchCV(cv=TimeSeriesSplit(gap=0, max_train_size=None, n_splits=2, test_size=84434),\n",
       "             estimator=LGBMRegressor(), n_jobs=4,\n",
       "             param_grid={&#x27;learning_rate&#x27;: [0.01], &#x27;max_depth&#x27;: [7],\n",
       "                         &#x27;min_child_samples&#x27;: [7], &#x27;min_data_in_leaf&#x27;: [500],\n",
       "                         &#x27;n_estimators&#x27;: [7000], &#x27;num_leaves&#x27;: [70],\n",
       "                         &#x27;reg_alpha&#x27;: [0.1]},\n",
       "             scoring=make_scorer(rmspe, greater_is_better=False), verbose=100)</pre><b>In a Jupyter environment, please rerun this cell to show the HTML representation or trust the notebook. <br />On GitHub, the HTML representation is unable to render, please try loading this page with nbviewer.org.</b></div><div class=\"sk-container\" hidden><div class=\"sk-item sk-dashed-wrapped\"><div class=\"sk-label-container\"><div class=\"sk-label sk-toggleable\"><input class=\"sk-toggleable__control sk-hidden--visually\" id=\"sk-estimator-id-19\" type=\"checkbox\" ><label for=\"sk-estimator-id-19\" class=\"sk-toggleable__label sk-toggleable__label-arrow\">GridSearchCV</label><div class=\"sk-toggleable__content\"><pre>GridSearchCV(cv=TimeSeriesSplit(gap=0, max_train_size=None, n_splits=2, test_size=84434),\n",
       "             estimator=LGBMRegressor(), n_jobs=4,\n",
       "             param_grid={&#x27;learning_rate&#x27;: [0.01], &#x27;max_depth&#x27;: [7],\n",
       "                         &#x27;min_child_samples&#x27;: [7], &#x27;min_data_in_leaf&#x27;: [500],\n",
       "                         &#x27;n_estimators&#x27;: [7000], &#x27;num_leaves&#x27;: [70],\n",
       "                         &#x27;reg_alpha&#x27;: [0.1]},\n",
       "             scoring=make_scorer(rmspe, greater_is_better=False), verbose=100)</pre></div></div></div><div class=\"sk-parallel\"><div class=\"sk-parallel-item\"><div class=\"sk-item\"><div class=\"sk-label-container\"><div class=\"sk-label sk-toggleable\"><input class=\"sk-toggleable__control sk-hidden--visually\" id=\"sk-estimator-id-20\" type=\"checkbox\" ><label for=\"sk-estimator-id-20\" class=\"sk-toggleable__label sk-toggleable__label-arrow\">estimator: LGBMRegressor</label><div class=\"sk-toggleable__content\"><pre>LGBMRegressor()</pre></div></div></div><div class=\"sk-serial\"><div class=\"sk-item\"><div class=\"sk-estimator sk-toggleable\"><input class=\"sk-toggleable__control sk-hidden--visually\" id=\"sk-estimator-id-21\" type=\"checkbox\" ><label for=\"sk-estimator-id-21\" class=\"sk-toggleable__label sk-toggleable__label-arrow\">LGBMRegressor</label><div class=\"sk-toggleable__content\"><pre>LGBMRegressor()</pre></div></div></div></div></div></div></div></div></div></div>"
      ],
      "text/plain": [
       "GridSearchCV(cv=TimeSeriesSplit(gap=0, max_train_size=None, n_splits=2, test_size=84434),\n",
       "             estimator=LGBMRegressor(), n_jobs=4,\n",
       "             param_grid={'learning_rate': [0.01], 'max_depth': [7],\n",
       "                         'min_child_samples': [7], 'min_data_in_leaf': [500],\n",
       "                         'n_estimators': [7000], 'num_leaves': [70],\n",
       "                         'reg_alpha': [0.1]},\n",
       "             scoring=make_scorer(rmspe, greater_is_better=False), verbose=100)"
      ]
     },
     "execution_count": 184,
     "metadata": {},
     "output_type": "execute_result"
    }
   ],
   "source": [
    "train(clf, X_train, X_valid)"
   ]
  },
  {
   "cell_type": "markdown",
   "id": "a3cc57cc-f536-419e-9afb-46409024e67c",
   "metadata": {},
   "source": [
    "# Submit Competition"
   ]
  },
  {
   "cell_type": "code",
   "execution_count": 185,
   "id": "07c77f3b-d44f-4a54-80f2-82cb9767007b",
   "metadata": {},
   "outputs": [],
   "source": [
    "X_test = df_test[cat_vars+contin_vars].loc[:train_size-1]"
   ]
  },
  {
   "cell_type": "code",
   "execution_count": 186,
   "id": "6c6444d3-fe6a-46be-9c66-e46a7997fab5",
   "metadata": {},
   "outputs": [
    {
     "data": {
      "text/plain": [
       "{'learning_rate': 0.01,\n",
       " 'max_depth': 7,\n",
       " 'min_child_samples': 7,\n",
       " 'min_data_in_leaf': 500,\n",
       " 'n_estimators': 7000,\n",
       " 'num_leaves': 70,\n",
       " 'reg_alpha': 0.1}"
      ]
     },
     "execution_count": 186,
     "metadata": {},
     "output_type": "execute_result"
    }
   ],
   "source": [
    "clf.best_params_"
   ]
  },
  {
   "cell_type": "code",
   "execution_count": 187,
   "id": "22cc657b-f3c5-49ea-bffa-0d3696b93acf",
   "metadata": {},
   "outputs": [],
   "source": [
    "# y_pred = np.exp(clf.predict(X_valid)*max_y_log)[:,0]\n",
    "# y_pred_test = np.exp(clf.predict(X_test)*max_y_log)[:,0]\n",
    "y_pred = np.exp(clf.predict(X_valid)*max_y_log)\n",
    "y_pred_test = np.exp(clf.predict(X_test)*max_y_log)\n",
    "# display(y_pred_test.shape)"
   ]
  },
  {
   "cell_type": "code",
   "execution_count": 188,
   "id": "bc050aee-1255-412b-b6d8-26f3e376c7dc",
   "metadata": {},
   "outputs": [
    {
     "name": "stdout",
     "output_type": "stream",
     "text": [
      "[CV 1/2; 1/1] START learning_rate=0.01, max_depth=7, min_child_samples=7, min_data_in_leaf=500, n_estimators=7000, num_leaves=70, reg_alpha=0.1\n",
      "[LightGBM] [Warning] min_data_in_leaf is set=500, min_child_samples=7 will be ignored. Current value: min_data_in_leaf=500\n",
      "Training until validation scores don't improve for 100 rounds\n",
      "[100]\tvalid_0's l2: 0.000949199\n",
      "[200]\tvalid_0's l2: 0.000712654\n",
      "[300]\tvalid_0's l2: 0.000594339\n",
      "[400]\tvalid_0's l2: 0.000524929\n",
      "[500]\tvalid_0's l2: 0.000483029\n",
      "[600]\tvalid_0's l2: 0.00045337\n",
      "[700]\tvalid_0's l2: 0.000429542\n",
      "[800]\tvalid_0's l2: 0.000414684\n",
      "[900]\tvalid_0's l2: 0.000401164\n",
      "[1000]\tvalid_0's l2: 0.000388664\n",
      "[1100]\tvalid_0's l2: 0.00037757\n",
      "[1200]\tvalid_0's l2: 0.000368467\n",
      "[1300]\tvalid_0's l2: 0.000359517\n",
      "[1400]\tvalid_0's l2: 0.000352489\n",
      "[1500]\tvalid_0's l2: 0.000346365\n",
      "[1600]\tvalid_0's l2: 0.000338968\n",
      "[1700]\tvalid_0's l2: 0.000332578\n",
      "[1800]\tvalid_0's l2: 0.000325633\n",
      "[1900]\tvalid_0's l2: 0.000320109\n",
      "[2000]\tvalid_0's l2: 0.000314619\n",
      "[2100]\tvalid_0's l2: 0.000311594\n",
      "[2200]\tvalid_0's l2: 0.000308691\n",
      "[2300]\tvalid_0's l2: 0.000306424\n",
      "[2400]\tvalid_0's l2: 0.000304019\n",
      "[2500]\tvalid_0's l2: 0.000301462\n",
      "[2600]\tvalid_0's l2: 0.000300411\n",
      "[2700]\tvalid_0's l2: 0.000298851\n",
      "[2800]\tvalid_0's l2: 0.000298027\n",
      "[2900]\tvalid_0's l2: 0.000297323\n",
      "[3000]\tvalid_0's l2: 0.000296199\n",
      "[3100]\tvalid_0's l2: 0.000295337\n",
      "[3200]\tvalid_0's l2: 0.000294115\n",
      "[3300]\tvalid_0's l2: 0.000293149\n",
      "[3400]\tvalid_0's l2: 0.000292558\n",
      "[3500]\tvalid_0's l2: 0.000291864\n",
      "[3600]\tvalid_0's l2: 0.000291563\n",
      "[3700]\tvalid_0's l2: 0.000290985\n",
      "[3800]\tvalid_0's l2: 0.000290577\n",
      "[3900]\tvalid_0's l2: 0.0002901\n",
      "[4000]\tvalid_0's l2: 0.000289747\n",
      "[4100]\tvalid_0's l2: 0.0002895\n",
      "[4200]\tvalid_0's l2: 0.000289228\n",
      "[4300]\tvalid_0's l2: 0.000289076\n",
      "[4400]\tvalid_0's l2: 0.000288719\n",
      "[4500]\tvalid_0's l2: 0.000288282\n",
      "[4600]\tvalid_0's l2: 0.000287852\n",
      "[4700]\tvalid_0's l2: 0.000287441\n",
      "[4800]\tvalid_0's l2: 0.000287093\n",
      "[4900]\tvalid_0's l2: 0.00028651\n",
      "[5000]\tvalid_0's l2: 0.000286263\n",
      "[5100]\tvalid_0's l2: 0.000286028\n",
      "[5200]\tvalid_0's l2: 0.000285621\n",
      "[5300]\tvalid_0's l2: 0.000285436\n",
      "[5400]\tvalid_0's l2: 0.000285163\n",
      "[5500]\tvalid_0's l2: 0.000284762\n",
      "[5600]\tvalid_0's l2: 0.000284595\n",
      "[5700]\tvalid_0's l2: 0.000284439\n",
      "[5800]\tvalid_0's l2: 0.000284237\n",
      "[5900]\tvalid_0's l2: 0.0002839\n",
      "[6000]\tvalid_0's l2: 0.000283702\n",
      "[6100]\tvalid_0's l2: 0.000283501\n",
      "[6200]\tvalid_0's l2: 0.000283237\n",
      "[6300]\tvalid_0's l2: 0.00028305\n",
      "[6400]\tvalid_0's l2: 0.000282912\n",
      "[6500]\tvalid_0's l2: 0.000282897\n",
      "Early stopping, best iteration is:\n",
      "[6474]\tvalid_0's l2: 0.000282879\n",
      "[CV 1/2; 1/1] END learning_rate=0.01, max_depth=7, min_child_samples=7, min_data_in_leaf=500, n_estimators=7000, num_leaves=70, reg_alpha=0.1;, score=-0.016 total time=10.6min\n"
     ]
    }
   ],
   "source": [
    "sample_csv = pd.read_csv('rossmann/sample_submission.csv')\n",
    "sample_csv['Sales'] = y_pred_test\n",
    "sample_csv.head()\n",
    "\n",
    "sample_csv.to_csv(f'submision_lightGBM.csv', index=False)"
   ]
  },
  {
   "cell_type": "code",
   "execution_count": null,
   "id": "32832aa3-a93d-494a-8025-fd741dc20fdb",
   "metadata": {},
   "outputs": [],
   "source": []
  },
  {
   "cell_type": "code",
   "execution_count": null,
   "id": "a07eb310-981b-4c00-9797-a79536e618df",
   "metadata": {},
   "outputs": [],
   "source": []
  }
 ],
 "metadata": {
  "kernelspec": {
   "display_name": "Python 3 (ipykernel)",
   "language": "python",
   "name": "python3"
  },
  "language_info": {
   "codemirror_mode": {
    "name": "ipython",
    "version": 3
   },
   "file_extension": ".py",
   "mimetype": "text/x-python",
   "name": "python",
   "nbconvert_exporter": "python",
   "pygments_lexer": "ipython3",
   "version": "3.9.15"
  }
 },
 "nbformat": 4,
 "nbformat_minor": 5
}
