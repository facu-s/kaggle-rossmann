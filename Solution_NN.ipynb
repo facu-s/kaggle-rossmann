{
 "cells": [
  {
   "cell_type": "markdown",
   "id": "f74d36d3-aca1-44e4-9e08-f8e7743ec075",
   "metadata": {},
   "source": [
    "# Library Packages"
   ]
  },
  {
   "cell_type": "code",
   "execution_count": 41,
   "id": "d6f9fbbd-17c6-4c86-b51e-cf9b1f826cd3",
   "metadata": {},
   "outputs": [
    {
     "name": "stderr",
     "output_type": "stream",
     "text": [
      "/Users/facundosolano/opt/anaconda3/envs/itba/lib/python3.10/site-packages/tensorflow/python/client/session.py:1768: UserWarning: An interactive session is already active. This can cause out-of-memory errors in some cases. You must explicitly call `InteractiveSession.close()` to release resources held by the other session(s).\n",
      "  warnings.warn('An interactive session is already active. This can '\n"
     ]
    }
   ],
   "source": [
    "from tensorflow.compat.v1 import ConfigProto\n",
    "from tensorflow.compat.v1 import InteractiveSession\n",
    "config = ConfigProto()\n",
    "config.gpu_options.allow_growth = True\n",
    "session = InteractiveSession(config=config)"
   ]
  },
  {
   "cell_type": "code",
   "execution_count": 42,
   "id": "40870c8b-7112-45f3-bfd3-8fb9be045a35",
   "metadata": {},
   "outputs": [],
   "source": [
    "import pandas as pd\n",
    "import numpy as np\n",
    "import datetime\n",
    "from pandas_summary import DataFrameSummary\n",
    "from tensorflow.keras.utils import to_categorical\n",
    "import matplotlib.pyplot as plt\n",
    "import seaborn as sns"
   ]
  },
  {
   "cell_type": "code",
   "execution_count": 162,
   "id": "7b1c5eba-1ab2-4534-a944-7b1d2b889e57",
   "metadata": {},
   "outputs": [],
   "source": [
    "from tensorflow.keras.models import Model\n",
    "from tensorflow.keras.callbacks import ModelCheckpoint\n",
    "from tensorflow.keras.optimizers import Adam\n",
    "from tensorflow.keras.layers import Embedding, Input, Flatten, Concatenate, Dense, BatchNormalization, Activation, LeakyReLU, Dropout\n",
    "from tensorflow.keras.regularizers import l2\n",
    "from tensorflow.keras import initializers"
   ]
  },
  {
   "cell_type": "markdown",
   "id": "e3f80197-5968-44ce-bfeb-95cf72a0675e",
   "metadata": {},
   "source": [
    "# Load Normalized Data\n",
    "\n",
    "This data have been cleaned, and normalized with\n",
    "* LabelEncoders - for categorical variables\n",
    "* StandardScaler - for continuous variables"
   ]
  },
  {
   "cell_type": "code",
   "execution_count": 253,
   "id": "34f78e99-9fd1-432c-88cc-dda58ce0c596",
   "metadata": {},
   "outputs": [],
   "source": [
    "df = pd.read_feather('train_normalized_data.fth')\n",
    "df_test = pd.read_feather('test_normalized_data.fth')\n",
    "df.drop('index',axis='columns',inplace=True)"
   ]
  },
  {
   "cell_type": "markdown",
   "id": "da6bb8d8-8b09-45ec-ad6a-3fe41f290a79",
   "metadata": {},
   "source": [
    "Columns in each dataset"
   ]
  },
  {
   "cell_type": "code",
   "execution_count": 254,
   "id": "c083c733-36df-4c99-9108-960613cd9d71",
   "metadata": {},
   "outputs": [
    {
     "data": {
      "text/plain": [
       "{'Customers', 'Sales', 'level_0'}"
      ]
     },
     "execution_count": 254,
     "metadata": {},
     "output_type": "execute_result"
    }
   ],
   "source": [
    "set(df.columns.tolist())-set(df_test.columns.tolist())"
   ]
  },
  {
   "cell_type": "markdown",
   "id": "36112cbf-e3b4-4696-90c8-43431ce7e6b7",
   "metadata": {},
   "source": [
    "# Data Analysis\n",
    "Check some correlations between columns that will give us information about how to build the NN"
   ]
  },
  {
   "cell_type": "code",
   "execution_count": 255,
   "id": "2e21a82d-586f-4af8-88d2-0495871b8d58",
   "metadata": {},
   "outputs": [
    {
     "data": {
      "text/plain": [
       "Index(['level_0', 'Store', 'DayOfWeek', 'Date', 'Sales', 'Customers', 'Open',\n",
       "       'Promo', 'StateHoliday', 'SchoolHoliday', 'Year', 'Month', 'Week',\n",
       "       'Day', 'StoreType', 'Assortment', 'CompetitionDistance',\n",
       "       'CompetitionOpenSinceMonth', 'CompetitionOpenSinceYear', 'Promo2',\n",
       "       'Promo2SinceWeek', 'Promo2SinceYear', 'PromoInterval',\n",
       "       'CompetitionOpenSince', 'Promo2Since', 'State', 'file', 'week', 'trend',\n",
       "       'Date_y', 'Month_y', 'Day_y', 'file_DE', 'week_DE', 'trend_DE',\n",
       "       'Date_DE', 'State_DE', 'Month_DE', 'Day_DE', 'file_y',\n",
       "       'Max_TemperatureC', 'Mean_TemperatureC', 'Min_TemperatureC',\n",
       "       'Dew_PointC', 'MeanDew_PointC', 'Min_DewpointC', 'Max_Humidity',\n",
       "       'Mean_Humidity', 'Min_Humidity', 'Max_Sea_Level_PressurehPa',\n",
       "       'Mean_Sea_Level_PressurehPa', 'Min_Sea_Level_PressurehPa',\n",
       "       'Max_VisibilityKm', 'Mean_VisibilityKm', 'Min_VisibilitykM',\n",
       "       'Max_Wind_SpeedKm_h', 'Mean_Wind_SpeedKm_h', 'Max_Gust_SpeedKm_h',\n",
       "       'Precipitationmm', 'CloudCover', 'Events', 'WindDirDegrees',\n",
       "       'StateName', 'Year_y', 'Week_y', 'CompetitionDaysOpen',\n",
       "       'CompetitionMonthsOpen', 'Promo2Days', 'Promo2Weeks',\n",
       "       'StateHoliday_bool', 'AfterSchoolHoliday', 'BeforeSchoolHoliday',\n",
       "       'AfterStateHoliday_bool', 'BeforeStateHoliday_bool', 'AfterPromo',\n",
       "       'BeforePromo', 'SchoolHoliday_bw', 'StateHoliday_bool_bw', 'Promo_bw',\n",
       "       'SchoolHoliday_fw', 'StateHoliday_bool_fw', 'Promo_fw'],\n",
       "      dtype='object')"
      ]
     },
     "execution_count": 255,
     "metadata": {},
     "output_type": "execute_result"
    }
   ],
   "source": [
    "df.columns"
   ]
  },
  {
   "cell_type": "code",
   "execution_count": 256,
   "id": "0e18a1ba-2e77-4792-9ca9-685eaa2af9eb",
   "metadata": {},
   "outputs": [
    {
     "data": {
      "text/plain": [
       "<seaborn.axisgrid.FacetGrid at 0x7fd94278b4c0>"
      ]
     },
     "execution_count": 256,
     "metadata": {},
     "output_type": "execute_result"
    },
    {
     "data": {
      "image/png": "[encoded data removed]",
      "text/plain": [
       "<Figure size 500x500 with 1 Axes>"
      ]
     },
     "metadata": {},
     "output_type": "display_data"
    }
   ],
   "source": [
    "sns.displot(y=df.Sales,x=df.Month,bins=12)"
   ]
  },
  {
   "cell_type": "code",
   "execution_count": 257,
   "id": "1324aa54-65b7-40ca-8ab7-ae3b6854041d",
   "metadata": {},
   "outputs": [
    {
     "data": {
      "text/plain": [
       "<seaborn.axisgrid.FacetGrid at 0x7fd96388ec80>"
      ]
     },
     "execution_count": 257,
     "metadata": {},
     "output_type": "execute_result"
    },
    {
     "data": {
      "image/png": "[encoded data removed]",
      "text/plain": [
       "<Figure size 500x500 with 1 Axes>"
      ]
     },
     "metadata": {},
     "output_type": "display_data"
    }
   ],
   "source": [
    "sns.displot(y=df.Sales,x=df.DayOfWeek,bins=12)"
   ]
  },
  {
   "cell_type": "code",
   "execution_count": 284,
   "id": "cd527528-a23d-49ca-b5b8-7dadf06fb1da",
   "metadata": {},
   "outputs": [
    {
     "name": "stderr",
     "output_type": "stream",
     "text": [
      "/var/folders/90/b05_bk0d2_z7wq_0d3_jqzd40000gn/T/ipykernel_80910/1491233022.py:1: FutureWarning: The default value of numeric_only in DataFrame.corr is deprecated. In a future version, it will default to False. Select only valid columns or specify the value of numeric_only to silence this warning.\n",
      "  corr_df = df.corr().loc['Sales'].apply(lambda x: np.abs(x))\n"
     ]
    },
    {
     "data": {
      "text/plain": [
       "DayOfWeek               0.178753\n",
       "Sales                   1.000000\n",
       "Customers               0.823552\n",
       "Promo                   0.368199\n",
       "Assortment              0.109015\n",
       "Promo2                  0.127556\n",
       "Promo2SinceYear         0.119537\n",
       "PromoInterval           0.120710\n",
       "Promo2Days              0.132413\n",
       "AfterPromo              0.183822\n",
       "BeforePromo             0.280666\n",
       "StateHoliday_bool_fw    0.110463\n",
       "Promo_fw                0.190073\n",
       "Name: Sales, dtype: float64"
      ]
     },
     "execution_count": 284,
     "metadata": {},
     "output_type": "execute_result"
    }
   ],
   "source": [
    "corr_df = df.corr().loc['Sales'].apply(lambda x: np.abs(x))\n",
    "# corr_df = corr_df[corr_df > 0.5\n",
    "# corr_df\n",
    "corr_df[corr_df>0.1]"
   ]
  },
  {
   "cell_type": "code",
   "execution_count": 259,
   "id": "033519fe-0587-4d82-baed-c69e70fd833f",
   "metadata": {},
   "outputs": [
    {
     "name": "stderr",
     "output_type": "stream",
     "text": [
      "/var/folders/90/b05_bk0d2_z7wq_0d3_jqzd40000gn/T/ipykernel_80910/1216867301.py:1: FutureWarning: The default value of numeric_only in DataFrame.corr is deprecated. In a future version, it will default to False. Select only valid columns or specify the value of numeric_only to silence this warning.\n",
      "  DataFrameSummary(df).summary().loc[['uniques', 'types', 'missing']]\n"
     ]
    },
    {
     "data": {
      "text/html": [
       "<div>\n",
       "<style scoped>\n",
       "    .dataframe tbody tr th:only-of-type {\n",
       "        vertical-align: middle;\n",
       "    }\n",
       "\n",
       "    .dataframe tbody tr th {\n",
       "        vertical-align: top;\n",
       "    }\n",
       "\n",
       "    .dataframe thead th {\n",
       "        text-align: right;\n",
       "    }\n",
       "</style>\n",
       "<table border=\"1\" class=\"dataframe\">\n",
       "  <thead>\n",
       "    <tr style=\"text-align: right;\">\n",
       "      <th></th>\n",
       "      <th>level_0</th>\n",
       "      <th>Store</th>\n",
       "      <th>DayOfWeek</th>\n",
       "      <th>Date</th>\n",
       "      <th>Sales</th>\n",
       "      <th>Customers</th>\n",
       "      <th>Open</th>\n",
       "      <th>Promo</th>\n",
       "      <th>StateHoliday</th>\n",
       "      <th>SchoolHoliday</th>\n",
       "      <th>...</th>\n",
       "      <th>AfterStateHoliday_bool</th>\n",
       "      <th>BeforeStateHoliday_bool</th>\n",
       "      <th>AfterPromo</th>\n",
       "      <th>BeforePromo</th>\n",
       "      <th>SchoolHoliday_bw</th>\n",
       "      <th>StateHoliday_bool_bw</th>\n",
       "      <th>Promo_bw</th>\n",
       "      <th>SchoolHoliday_fw</th>\n",
       "      <th>StateHoliday_bool_fw</th>\n",
       "      <th>Promo_fw</th>\n",
       "    </tr>\n",
       "  </thead>\n",
       "  <tbody>\n",
       "    <tr>\n",
       "      <th>uniques</th>\n",
       "      <td>844338</td>\n",
       "      <td>1115</td>\n",
       "      <td>7</td>\n",
       "      <td>942</td>\n",
       "      <td>21733</td>\n",
       "      <td>4083</td>\n",
       "      <td>1</td>\n",
       "      <td>2</td>\n",
       "      <td>4</td>\n",
       "      <td>2</td>\n",
       "      <td>...</td>\n",
       "      <td>136</td>\n",
       "      <td>147</td>\n",
       "      <td>21</td>\n",
       "      <td>17</td>\n",
       "      <td>8</td>\n",
       "      <td>3</td>\n",
       "      <td>6</td>\n",
       "      <td>8</td>\n",
       "      <td>3</td>\n",
       "      <td>6</td>\n",
       "    </tr>\n",
       "    <tr>\n",
       "      <th>types</th>\n",
       "      <td>numeric</td>\n",
       "      <td>numeric</td>\n",
       "      <td>numeric</td>\n",
       "      <td>date</td>\n",
       "      <td>numeric</td>\n",
       "      <td>numeric</td>\n",
       "      <td>constant</td>\n",
       "      <td>bool</td>\n",
       "      <td>numeric</td>\n",
       "      <td>bool</td>\n",
       "      <td>...</td>\n",
       "      <td>numeric</td>\n",
       "      <td>numeric</td>\n",
       "      <td>numeric</td>\n",
       "      <td>numeric</td>\n",
       "      <td>numeric</td>\n",
       "      <td>numeric</td>\n",
       "      <td>numeric</td>\n",
       "      <td>numeric</td>\n",
       "      <td>numeric</td>\n",
       "      <td>numeric</td>\n",
       "    </tr>\n",
       "    <tr>\n",
       "      <th>missing</th>\n",
       "      <td>0</td>\n",
       "      <td>0</td>\n",
       "      <td>0</td>\n",
       "      <td>0</td>\n",
       "      <td>0</td>\n",
       "      <td>0</td>\n",
       "      <td>0</td>\n",
       "      <td>0</td>\n",
       "      <td>0</td>\n",
       "      <td>0</td>\n",
       "      <td>...</td>\n",
       "      <td>0</td>\n",
       "      <td>0</td>\n",
       "      <td>0</td>\n",
       "      <td>0</td>\n",
       "      <td>0</td>\n",
       "      <td>0</td>\n",
       "      <td>0</td>\n",
       "      <td>0</td>\n",
       "      <td>0</td>\n",
       "      <td>0</td>\n",
       "    </tr>\n",
       "  </tbody>\n",
       "</table>\n",
       "<p>3 rows × 82 columns</p>\n",
       "</div>"
      ],
      "text/plain": [
       "         level_0    Store DayOfWeek  Date    Sales Customers      Open Promo  \\\n",
       "uniques   844338     1115         7   942    21733      4083         1     2   \n",
       "types    numeric  numeric   numeric  date  numeric   numeric  constant  bool   \n",
       "missing        0        0         0     0        0         0         0     0   \n",
       "\n",
       "        StateHoliday SchoolHoliday  ... AfterStateHoliday_bool  \\\n",
       "uniques            4             2  ...                    136   \n",
       "types        numeric          bool  ...                numeric   \n",
       "missing            0             0  ...                      0   \n",
       "\n",
       "        BeforeStateHoliday_bool AfterPromo BeforePromo SchoolHoliday_bw  \\\n",
       "uniques                     147         21          17                8   \n",
       "types                   numeric    numeric     numeric          numeric   \n",
       "missing                       0          0           0                0   \n",
       "\n",
       "        StateHoliday_bool_bw Promo_bw SchoolHoliday_fw StateHoliday_bool_fw  \\\n",
       "uniques                    3        6                8                    3   \n",
       "types                numeric  numeric          numeric              numeric   \n",
       "missing                    0        0                0                    0   \n",
       "\n",
       "        Promo_fw  \n",
       "uniques        6  \n",
       "types    numeric  \n",
       "missing        0  \n",
       "\n",
       "[3 rows x 82 columns]"
      ]
     },
     "execution_count": 259,
     "metadata": {},
     "output_type": "execute_result"
    }
   ],
   "source": [
    "DataFrameSummary(df).summary().loc[['uniques', 'types', 'missing']]"
   ]
  },
  {
   "cell_type": "code",
   "execution_count": 260,
   "id": "69893c4f-6e1d-42b1-8d00-7b4c37b9061f",
   "metadata": {},
   "outputs": [
    {
     "name": "stderr",
     "output_type": "stream",
     "text": [
      "/var/folders/90/b05_bk0d2_z7wq_0d3_jqzd40000gn/T/ipykernel_80910/190154049.py:1: FutureWarning: The default value of numeric_only in DataFrame.corr is deprecated. In a future version, it will default to False. Select only valid columns or specify the value of numeric_only to silence this warning.\n",
      "  DataFrameSummary(df).summary().loc[['uniques', 'types', 'missing']].T.groupby('types').max()\n"
     ]
    },
    {
     "data": {
      "text/html": [
       "<div>\n",
       "<style scoped>\n",
       "    .dataframe tbody tr th:only-of-type {\n",
       "        vertical-align: middle;\n",
       "    }\n",
       "\n",
       "    .dataframe tbody tr th {\n",
       "        vertical-align: top;\n",
       "    }\n",
       "\n",
       "    .dataframe thead th {\n",
       "        text-align: right;\n",
       "    }\n",
       "</style>\n",
       "<table border=\"1\" class=\"dataframe\">\n",
       "  <thead>\n",
       "    <tr style=\"text-align: right;\">\n",
       "      <th></th>\n",
       "      <th>uniques</th>\n",
       "      <th>missing</th>\n",
       "    </tr>\n",
       "    <tr>\n",
       "      <th>types</th>\n",
       "      <th></th>\n",
       "      <th></th>\n",
       "    </tr>\n",
       "  </thead>\n",
       "  <tbody>\n",
       "    <tr>\n",
       "      <th>bool</th>\n",
       "      <td>2</td>\n",
       "      <td>0</td>\n",
       "    </tr>\n",
       "    <tr>\n",
       "      <th>categorical</th>\n",
       "      <td>135</td>\n",
       "      <td>0</td>\n",
       "    </tr>\n",
       "    <tr>\n",
       "      <th>constant</th>\n",
       "      <td>1</td>\n",
       "      <td>0</td>\n",
       "    </tr>\n",
       "    <tr>\n",
       "      <th>date</th>\n",
       "      <td>942</td>\n",
       "      <td>0</td>\n",
       "    </tr>\n",
       "    <tr>\n",
       "      <th>numeric</th>\n",
       "      <td>844338</td>\n",
       "      <td>0</td>\n",
       "    </tr>\n",
       "    <tr>\n",
       "      <th>unique</th>\n",
       "      <td>0</td>\n",
       "      <td>844338</td>\n",
       "    </tr>\n",
       "  </tbody>\n",
       "</table>\n",
       "</div>"
      ],
      "text/plain": [
       "             uniques  missing\n",
       "types                        \n",
       "bool               2        0\n",
       "categorical      135        0\n",
       "constant           1        0\n",
       "date             942        0\n",
       "numeric       844338        0\n",
       "unique             0   844338"
      ]
     },
     "execution_count": 260,
     "metadata": {},
     "output_type": "execute_result"
    }
   ],
   "source": [
    "DataFrameSummary(df).summary().loc[['uniques', 'types', 'missing']].T.groupby('types').max()"
   ]
  },
  {
   "cell_type": "code",
   "execution_count": null,
   "id": "91894b21-2120-4e22-9433-726962c4f31a",
   "metadata": {},
   "outputs": [],
   "source": []
  },
  {
   "cell_type": "markdown",
   "id": "6d0f59e0-ed4b-4439-a247-3e7516f34eb8",
   "metadata": {},
   "source": [
    "# Data Model"
   ]
  },
  {
   "cell_type": "code",
   "execution_count": 285,
   "id": "718add5b-faec-48c9-b42f-e14f4395e92f",
   "metadata": {},
   "outputs": [],
   "source": [
    "# Embeddings dimensionality\n",
    "cat_var_dict = {'Store': 50, 'DayOfWeek': 6, 'Year': 2, 'Month': 6,\n",
    "    'Day': 10, 'StateHoliday': 3, 'CompetitionMonthsOpen': 2,\n",
    "    'Promo2Weeks': 1, 'StoreType': 2, 'Assortment': 3, 'PromoInterval': 3,\n",
    "    'CompetitionOpenSinceYear': 4, 'Promo2SinceYear': 4, 'State': 6,\n",
    "    'Week': 2, 'Events': 4, 'Promo_fw': 1,\n",
    "    'Promo_bw': 1, 'SchoolHoliday_fw': 1,\n",
    "    'SchoolHoliday_bw': 1}"
   ]
  },
  {
   "cell_type": "code",
   "execution_count": 286,
   "id": "4cdbc9b4-9791-4a70-915f-9bb1f358ca09",
   "metadata": {},
   "outputs": [],
   "source": [
    "contin_vars = ['CompetitionDistance', \n",
    "   'Max_TemperatureC', 'Mean_TemperatureC', 'Min_TemperatureC', 'Precipitationmm',\n",
    "   'Max_Humidity', 'Mean_Humidity', 'Min_Humidity', 'Max_Wind_SpeedKm_h', \n",
    "   'Mean_Wind_SpeedKm_h', 'CloudCover', 'trend', 'trend_DE',\n",
    "   'AfterStateHoliday_bool', 'BeforeStateHoliday_bool', 'Promo', 'SchoolHoliday', 'StateHoliday_bool']"
   ]
  },
  {
   "cell_type": "code",
   "execution_count": 287,
   "id": "bae96486-f419-451d-82e8-998c77690229",
   "metadata": {},
   "outputs": [
    {
     "data": {
      "text/plain": [
       "set()"
      ]
     },
     "execution_count": 287,
     "metadata": {},
     "output_type": "execute_result"
    }
   ],
   "source": [
    "# Check all columns on df are consistent with name of variables\n",
    "set(contin_vars+list(cat_var_dict.keys()))-set(df.columns)"
   ]
  },
  {
   "cell_type": "markdown",
   "id": "260b70bd-5e45-41c3-99dd-500358a8b9f4",
   "metadata": {},
   "source": [
    "### Create Embeddings Layers"
   ]
  },
  {
   "cell_type": "code",
   "execution_count": 288,
   "id": "8e019f04-40e4-4387-a4cb-6c886ab202fd",
   "metadata": {},
   "outputs": [],
   "source": [
    "# Recalculate dimensionality\n",
    "for key in cat_var_dict.keys():\n",
    "    dim = len(pd.unique(df[key]))\n",
    "    emb_dim = (dim+2)//3\n",
    "    cat_var_dict[key] = 50 if emb_dim>50 else emb_dim"
   ]
  },
  {
   "cell_type": "code",
   "execution_count": 289,
   "id": "94260092-e3a5-4970-bcdb-38ae8cbf29d8",
   "metadata": {},
   "outputs": [],
   "source": [
    "def get_emb(feat):\n",
    "    name = feat[0]\n",
    "    c = len(pd.unique(df[name]))\n",
    "    c2 = cat_var_dict[name]\n",
    "    inp = Input((1,), dtype='int64', name=name+'_in')\n",
    "    u = Flatten(name=name+'_flt')(Embedding(c, c2, input_length=1)(inp))\n",
    "    # print(\"name: \",name,\" dim: \",c,\" emd_dim: \",c2)\n",
    "    return inp,u"
   ]
  },
  {
   "cell_type": "code",
   "execution_count": 290,
   "id": "f70bced8-2eb8-4eef-878f-aed6f116c45c",
   "metadata": {},
   "outputs": [],
   "source": [
    "# Analyze to use similar initializer\n",
    "# def emb_init(shape, name=None):\n",
    "#     return initializers.uniform(shape, scale=0.6/shape[1], name=name)"
   ]
  },
  {
   "cell_type": "code",
   "execution_count": 291,
   "id": "ad8fc593-b324-46f0-bcc8-d63320eaef8f",
   "metadata": {},
   "outputs": [],
   "source": [
    "# for feat in df[contin_vars].items():\n",
    "#     print(feat[0])\n",
    "# for feat in df[list(cat_var_dict.keys())].items():\n",
    "#     print(feat[0])"
   ]
  },
  {
   "cell_type": "code",
   "execution_count": 292,
   "id": "942280b3-1981-4d6a-8f6a-b6d2179c2db1",
   "metadata": {},
   "outputs": [],
   "source": [
    "def get_contin(feat):\n",
    "    name = feat[0]\n",
    "    inp = Input((1,), name=name+'_in')\n",
    "    return inp, Dense(1, name=name+'_d')(inp)"
   ]
  },
  {
   "cell_type": "code",
   "execution_count": 293,
   "id": "0813d3ef-74fc-403d-bd1a-f246280bea7a",
   "metadata": {},
   "outputs": [],
   "source": [
    "def get_contin_one():\n",
    "    n_contin = df[contin_vars].shape[1]\n",
    "    contin_inp = Input((n_contin,), name='contin')\n",
    "    contin_out = BatchNormalization()(df[contin_vars])\n",
    "    return contin_inp, contin_out"
   ]
  },
  {
   "cell_type": "code",
   "execution_count": 300,
   "id": "1ffd4297-050e-4e98-a560-9851bb6966cd",
   "metadata": {},
   "outputs": [],
   "source": [
    "def rmspe(y_true, y_pred):\n",
    "    return K.sqrt(K.mean(K.square((y_true - y_pred)/(y_true))))"
   ]
  },
  {
   "cell_type": "code",
   "execution_count": 294,
   "id": "88de4de8-5668-4720-8861-5f628ea272eb",
   "metadata": {},
   "outputs": [],
   "source": [
    "split_contins = True\n",
    "\n",
    "def get_model():\n",
    "    if split_contins:\n",
    "        conts = [get_contin(feat) for feat in df[contin_vars].items()]\n",
    "        cont_out = [d for inp,d in conts]\n",
    "        cont_inp = [inp for inp,d in conts]\n",
    "    else:\n",
    "        contin_inp, contin_out = get_contin_one()\n",
    "        cont_out = [contin_out]\n",
    "        cont_inp = [contin_inp]\n",
    "\n",
    "    embs = [get_emb(feat) for feat in df[list(cat_var_dict.keys())].items()]\n",
    "    x = Concatenate(name='All_Concatenate')([emb for inp,emb in embs] + cont_out)\n",
    "\n",
    "    x = Dropout(0.02)(x)\n",
    "    x = Dense(1000, activation='relu')(x)\n",
    "    x = Dense(500, activation='relu')(x)\n",
    "    x = Dense(1, activation='sigmoid')(x)\n",
    "\n",
    "    model = Model([inp for inp,emb in embs] + cont_inp, x)\n",
    "    \n",
    "    model.compile('adam', 'mean_absolute_error')\n",
    "    model.compile(optimizer=Adam(learning_rate=0.001), metrics=['mse', rmspe], loss='mse')\n",
    "    # model.compile(Adam(), 'mse')\n",
    "    return model"
   ]
  },
  {
   "cell_type": "code",
   "execution_count": 295,
   "id": "1a48ed13-9707-4ac3-b3b2-33a40c39940a",
   "metadata": {},
   "outputs": [],
   "source": [
    "def train(model, map_train, map_valid,  bs=128, ne=10):\n",
    "\n",
    "    checkpoint = ModelCheckpoint('bestmodel.hdf5', monitor='val_loss', verbose=1, save_best_only=True)\n",
    "\n",
    "    return model.fit(map_train, y_trn, batch_size=bs, epochs=ne, verbose=1, validation_data=(map_valid, y_val), callbacks=[checkpoint])"
   ]
  },
  {
   "cell_type": "markdown",
   "id": "6ea66395-8e2d-49a0-acb0-6bf9232a9cc9",
   "metadata": {},
   "source": [
    "### Train Model and Split Data"
   ]
  },
  {
   "cell_type": "code",
   "execution_count": 296,
   "id": "bac56791-10ce-4fc9-ac74-e8fb2ab7ed91",
   "metadata": {},
   "outputs": [],
   "source": [
    "def split_cols(arr): return np.hsplit(arr,arr.shape[1])"
   ]
  },
  {
   "cell_type": "code",
   "execution_count": 297,
   "id": "a431d568-c1e7-4bda-a148-1ca1ee8d424d",
   "metadata": {},
   "outputs": [],
   "source": [
    "def split_data():\n",
    "    if split_contins:\n",
    "        map_train = split_cols(cats_trn) + split_cols(contins_trn)\n",
    "        map_valid = split_cols(cats_val) + split_cols(contins_val)\n",
    "    else:\n",
    "        map_train = split_cols(cats_trn) + [contins_trn]\n",
    "        map_valid = split_cols(cats_val) + [contins_val]\n",
    "    return (map_train, map_valid)"
   ]
  },
  {
   "cell_type": "code",
   "execution_count": 298,
   "id": "993be6a3-eeb9-42b0-bbd9-bbaf13555616",
   "metadata": {},
   "outputs": [],
   "source": [
    "n=len(df.Sales)\n",
    "\n",
    "train_ratio=0.9\n",
    "train_size = int(n*train_ratio)\n",
    "contins_trn, contins_val = df[contin_vars].loc[:train_size-1], df[contin_vars].loc[train_size:]\n",
    "cats_trn, cats_val       = df[cat_var_dict.keys()].loc[:train_size-1], df[cat_var_dict.keys()].loc[train_size:]\n",
    "y_trn, y_val             = df.Sales[:train_size], df.Sales[train_size:]\n",
    "# display(contins_trn, contins_val,cats_trn, cats_val,y_trn, y_val)"
   ]
  },
  {
   "cell_type": "code",
   "execution_count": 299,
   "id": "abf7a3bd-4bbc-4325-9073-2432f311b6a5",
   "metadata": {},
   "outputs": [
    {
     "name": "stdout",
     "output_type": "stream",
     "text": [
      "name:  Store  dim:  1115  emd_dim:  50\n",
      "name:  DayOfWeek  dim:  7  emd_dim:  3\n",
      "name:  Year  dim:  3  emd_dim:  1\n",
      "name:  Month  dim:  12  emd_dim:  4\n",
      "name:  Day  dim:  31  emd_dim:  11\n",
      "name:  StateHoliday  dim:  4  emd_dim:  2\n",
      "name:  CompetitionMonthsOpen  dim:  25  emd_dim:  9\n",
      "name:  Promo2Weeks  dim:  26  emd_dim:  9\n",
      "name:  StoreType  dim:  4  emd_dim:  2\n",
      "name:  Assortment  dim:  3  emd_dim:  1\n",
      "name:  PromoInterval  dim:  4  emd_dim:  2\n",
      "name:  CompetitionOpenSinceYear  dim:  21  emd_dim:  7\n",
      "name:  Promo2SinceYear  dim:  8  emd_dim:  3\n",
      "name:  State  dim:  12  emd_dim:  4\n",
      "name:  Week  dim:  52  emd_dim:  18\n",
      "name:  Events  dim:  22  emd_dim:  8\n",
      "name:  Promo_fw  dim:  6  emd_dim:  2\n",
      "name:  Promo_bw  dim:  6  emd_dim:  2\n",
      "name:  SchoolHoliday_fw  dim:  8  emd_dim:  3\n",
      "name:  SchoolHoliday_bw  dim:  8  emd_dim:  3\n",
      "Model: \"model_20\"\n",
      "__________________________________________________________________________________________________\n",
      " Layer (type)                   Output Shape         Param #     Connected to                     \n",
      "==================================================================================================\n",
      " Store_in (InputLayer)          [(None, 1)]          0           []                               \n",
      "                                                                                                  \n",
      " DayOfWeek_in (InputLayer)      [(None, 1)]          0           []                               \n",
      "                                                                                                  \n",
      " Year_in (InputLayer)           [(None, 1)]          0           []                               \n",
      "                                                                                                  \n",
      " Month_in (InputLayer)          [(None, 1)]          0           []                               \n",
      "                                                                                                  \n",
      " Day_in (InputLayer)            [(None, 1)]          0           []                               \n",
      "                                                                                                  \n",
      " StateHoliday_in (InputLayer)   [(None, 1)]          0           []                               \n",
      "                                                                                                  \n",
      " CompetitionMonthsOpen_in (Inpu  [(None, 1)]         0           []                               \n",
      " tLayer)                                                                                          \n",
      "                                                                                                  \n",
      " Promo2Weeks_in (InputLayer)    [(None, 1)]          0           []                               \n",
      "                                                                                                  \n",
      " StoreType_in (InputLayer)      [(None, 1)]          0           []                               \n",
      "                                                                                                  \n",
      " Assortment_in (InputLayer)     [(None, 1)]          0           []                               \n",
      "                                                                                                  \n",
      " PromoInterval_in (InputLayer)  [(None, 1)]          0           []                               \n",
      "                                                                                                  \n",
      " CompetitionOpenSinceYear_in (I  [(None, 1)]         0           []                               \n",
      " nputLayer)                                                                                       \n",
      "                                                                                                  \n",
      " Promo2SinceYear_in (InputLayer  [(None, 1)]         0           []                               \n",
      " )                                                                                                \n",
      "                                                                                                  \n",
      " State_in (InputLayer)          [(None, 1)]          0           []                               \n",
      "                                                                                                  \n",
      " Week_in (InputLayer)           [(None, 1)]          0           []                               \n",
      "                                                                                                  \n",
      " Events_in (InputLayer)         [(None, 1)]          0           []                               \n",
      "                                                                                                  \n",
      " Promo_fw_in (InputLayer)       [(None, 1)]          0           []                               \n",
      "                                                                                                  \n",
      " Promo_bw_in (InputLayer)       [(None, 1)]          0           []                               \n",
      "                                                                                                  \n",
      " SchoolHoliday_fw_in (InputLaye  [(None, 1)]         0           []                               \n",
      " r)                                                                                               \n",
      "                                                                                                  \n",
      " SchoolHoliday_bw_in (InputLaye  [(None, 1)]         0           []                               \n",
      " r)                                                                                               \n",
      "                                                                                                  \n",
      " embedding_580 (Embedding)      (None, 1, 50)        55750       ['Store_in[0][0]']               \n",
      "                                                                                                  \n",
      " embedding_581 (Embedding)      (None, 1, 3)         21          ['DayOfWeek_in[0][0]']           \n",
      "                                                                                                  \n",
      " embedding_582 (Embedding)      (None, 1, 1)         3           ['Year_in[0][0]']                \n",
      "                                                                                                  \n",
      " embedding_583 (Embedding)      (None, 1, 4)         48          ['Month_in[0][0]']               \n",
      "                                                                                                  \n",
      " embedding_584 (Embedding)      (None, 1, 11)        341         ['Day_in[0][0]']                 \n",
      "                                                                                                  \n",
      " embedding_585 (Embedding)      (None, 1, 2)         8           ['StateHoliday_in[0][0]']        \n",
      "                                                                                                  \n",
      " embedding_586 (Embedding)      (None, 1, 9)         225         ['CompetitionMonthsOpen_in[0][0]'\n",
      "                                                                 ]                                \n",
      "                                                                                                  \n",
      " embedding_587 (Embedding)      (None, 1, 9)         234         ['Promo2Weeks_in[0][0]']         \n",
      "                                                                                                  \n",
      " embedding_588 (Embedding)      (None, 1, 2)         8           ['StoreType_in[0][0]']           \n",
      "                                                                                                  \n",
      " embedding_589 (Embedding)      (None, 1, 1)         3           ['Assortment_in[0][0]']          \n",
      "                                                                                                  \n",
      " embedding_590 (Embedding)      (None, 1, 2)         8           ['PromoInterval_in[0][0]']       \n",
      "                                                                                                  \n",
      " embedding_591 (Embedding)      (None, 1, 7)         147         ['CompetitionOpenSinceYear_in[0][\n",
      "                                                                 0]']                             \n",
      "                                                                                                  \n",
      " embedding_592 (Embedding)      (None, 1, 3)         24          ['Promo2SinceYear_in[0][0]']     \n",
      "                                                                                                  \n",
      " embedding_593 (Embedding)      (None, 1, 4)         48          ['State_in[0][0]']               \n",
      "                                                                                                  \n",
      " embedding_594 (Embedding)      (None, 1, 18)        936         ['Week_in[0][0]']                \n",
      "                                                                                                  \n",
      " embedding_595 (Embedding)      (None, 1, 8)         176         ['Events_in[0][0]']              \n",
      "                                                                                                  \n",
      " embedding_596 (Embedding)      (None, 1, 2)         12          ['Promo_fw_in[0][0]']            \n",
      "                                                                                                  \n",
      " embedding_597 (Embedding)      (None, 1, 2)         12          ['Promo_bw_in[0][0]']            \n",
      "                                                                                                  \n",
      " embedding_598 (Embedding)      (None, 1, 3)         24          ['SchoolHoliday_fw_in[0][0]']    \n",
      "                                                                                                  \n",
      " embedding_599 (Embedding)      (None, 1, 3)         24          ['SchoolHoliday_bw_in[0][0]']    \n",
      "                                                                                                  \n",
      " CompetitionDistance_in (InputL  [(None, 1)]         0           []                               \n",
      " ayer)                                                                                            \n",
      "                                                                                                  \n",
      " Max_TemperatureC_in (InputLaye  [(None, 1)]         0           []                               \n",
      " r)                                                                                               \n",
      "                                                                                                  \n",
      " Mean_TemperatureC_in (InputLay  [(None, 1)]         0           []                               \n",
      " er)                                                                                              \n",
      "                                                                                                  \n",
      " Min_TemperatureC_in (InputLaye  [(None, 1)]         0           []                               \n",
      " r)                                                                                               \n",
      "                                                                                                  \n",
      " Precipitationmm_in (InputLayer  [(None, 1)]         0           []                               \n",
      " )                                                                                                \n",
      "                                                                                                  \n",
      " Max_Humidity_in (InputLayer)   [(None, 1)]          0           []                               \n",
      "                                                                                                  \n",
      " Mean_Humidity_in (InputLayer)  [(None, 1)]          0           []                               \n",
      "                                                                                                  \n",
      " Min_Humidity_in (InputLayer)   [(None, 1)]          0           []                               \n",
      "                                                                                                  \n",
      " Max_Wind_SpeedKm_h_in (InputLa  [(None, 1)]         0           []                               \n",
      " yer)                                                                                             \n",
      "                                                                                                  \n",
      " Mean_Wind_SpeedKm_h_in (InputL  [(None, 1)]         0           []                               \n",
      " ayer)                                                                                            \n",
      "                                                                                                  \n",
      " CloudCover_in (InputLayer)     [(None, 1)]          0           []                               \n",
      "                                                                                                  \n",
      " trend_in (InputLayer)          [(None, 1)]          0           []                               \n",
      "                                                                                                  \n",
      " trend_DE_in (InputLayer)       [(None, 1)]          0           []                               \n",
      "                                                                                                  \n",
      " AfterStateHoliday_bool_in (Inp  [(None, 1)]         0           []                               \n",
      " utLayer)                                                                                         \n",
      "                                                                                                  \n",
      " BeforeStateHoliday_bool_in (In  [(None, 1)]         0           []                               \n",
      " putLayer)                                                                                        \n",
      "                                                                                                  \n",
      " Promo_in (InputLayer)          [(None, 1)]          0           []                               \n",
      "                                                                                                  \n",
      " SchoolHoliday_in (InputLayer)  [(None, 1)]          0           []                               \n",
      "                                                                                                  \n",
      " StateHoliday_bool_in (InputLay  [(None, 1)]         0           []                               \n",
      " er)                                                                                              \n",
      "                                                                                                  \n",
      " Store_flt (Flatten)            (None, 50)           0           ['embedding_580[0][0]']          \n",
      "                                                                                                  \n",
      " DayOfWeek_flt (Flatten)        (None, 3)            0           ['embedding_581[0][0]']          \n",
      "                                                                                                  \n",
      " Year_flt (Flatten)             (None, 1)            0           ['embedding_582[0][0]']          \n",
      "                                                                                                  \n",
      " Month_flt (Flatten)            (None, 4)            0           ['embedding_583[0][0]']          \n",
      "                                                                                                  \n",
      " Day_flt (Flatten)              (None, 11)           0           ['embedding_584[0][0]']          \n",
      "                                                                                                  \n",
      " StateHoliday_flt (Flatten)     (None, 2)            0           ['embedding_585[0][0]']          \n",
      "                                                                                                  \n",
      " CompetitionMonthsOpen_flt (Fla  (None, 9)           0           ['embedding_586[0][0]']          \n",
      " tten)                                                                                            \n",
      "                                                                                                  \n",
      " Promo2Weeks_flt (Flatten)      (None, 9)            0           ['embedding_587[0][0]']          \n",
      "                                                                                                  \n",
      " StoreType_flt (Flatten)        (None, 2)            0           ['embedding_588[0][0]']          \n",
      "                                                                                                  \n",
      " Assortment_flt (Flatten)       (None, 1)            0           ['embedding_589[0][0]']          \n",
      "                                                                                                  \n",
      " PromoInterval_flt (Flatten)    (None, 2)            0           ['embedding_590[0][0]']          \n",
      "                                                                                                  \n",
      " CompetitionOpenSinceYear_flt (  (None, 7)           0           ['embedding_591[0][0]']          \n",
      " Flatten)                                                                                         \n",
      "                                                                                                  \n",
      " Promo2SinceYear_flt (Flatten)  (None, 3)            0           ['embedding_592[0][0]']          \n",
      "                                                                                                  \n",
      " State_flt (Flatten)            (None, 4)            0           ['embedding_593[0][0]']          \n",
      "                                                                                                  \n",
      " Week_flt (Flatten)             (None, 18)           0           ['embedding_594[0][0]']          \n",
      "                                                                                                  \n",
      " Events_flt (Flatten)           (None, 8)            0           ['embedding_595[0][0]']          \n",
      "                                                                                                  \n",
      " Promo_fw_flt (Flatten)         (None, 2)            0           ['embedding_596[0][0]']          \n",
      "                                                                                                  \n",
      " Promo_bw_flt (Flatten)         (None, 2)            0           ['embedding_597[0][0]']          \n",
      "                                                                                                  \n",
      " SchoolHoliday_fw_flt (Flatten)  (None, 3)           0           ['embedding_598[0][0]']          \n",
      "                                                                                                  \n",
      " SchoolHoliday_bw_flt (Flatten)  (None, 3)           0           ['embedding_599[0][0]']          \n",
      "                                                                                                  \n",
      " CompetitionDistance_d (Dense)  (None, 1)            2           ['CompetitionDistance_in[0][0]'] \n",
      "                                                                                                  \n",
      " Max_TemperatureC_d (Dense)     (None, 1)            2           ['Max_TemperatureC_in[0][0]']    \n",
      "                                                                                                  \n",
      " Mean_TemperatureC_d (Dense)    (None, 1)            2           ['Mean_TemperatureC_in[0][0]']   \n",
      "                                                                                                  \n",
      " Min_TemperatureC_d (Dense)     (None, 1)            2           ['Min_TemperatureC_in[0][0]']    \n",
      "                                                                                                  \n",
      " Precipitationmm_d (Dense)      (None, 1)            2           ['Precipitationmm_in[0][0]']     \n",
      "                                                                                                  \n",
      " Max_Humidity_d (Dense)         (None, 1)            2           ['Max_Humidity_in[0][0]']        \n",
      "                                                                                                  \n",
      " Mean_Humidity_d (Dense)        (None, 1)            2           ['Mean_Humidity_in[0][0]']       \n",
      "                                                                                                  \n",
      " Min_Humidity_d (Dense)         (None, 1)            2           ['Min_Humidity_in[0][0]']        \n",
      "                                                                                                  \n",
      " Max_Wind_SpeedKm_h_d (Dense)   (None, 1)            2           ['Max_Wind_SpeedKm_h_in[0][0]']  \n",
      "                                                                                                  \n",
      " Mean_Wind_SpeedKm_h_d (Dense)  (None, 1)            2           ['Mean_Wind_SpeedKm_h_in[0][0]'] \n",
      "                                                                                                  \n",
      " CloudCover_d (Dense)           (None, 1)            2           ['CloudCover_in[0][0]']          \n",
      "                                                                                                  \n",
      " trend_d (Dense)                (None, 1)            2           ['trend_in[0][0]']               \n",
      "                                                                                                  \n",
      " trend_DE_d (Dense)             (None, 1)            2           ['trend_DE_in[0][0]']            \n",
      "                                                                                                  \n",
      " AfterStateHoliday_bool_d (Dens  (None, 1)           2           ['AfterStateHoliday_bool_in[0][0]\n",
      " e)                                                              ']                               \n",
      "                                                                                                  \n",
      " BeforeStateHoliday_bool_d (Den  (None, 1)           2           ['BeforeStateHoliday_bool_in[0][0\n",
      " se)                                                             ]']                              \n",
      "                                                                                                  \n",
      " Promo_d (Dense)                (None, 1)            2           ['Promo_in[0][0]']               \n",
      "                                                                                                  \n",
      " SchoolHoliday_d (Dense)        (None, 1)            2           ['SchoolHoliday_in[0][0]']       \n",
      "                                                                                                  \n",
      " StateHoliday_bool_d (Dense)    (None, 1)            2           ['StateHoliday_bool_in[0][0]']   \n",
      "                                                                                                  \n",
      " All_Concatenate (Concatenate)  (None, 162)          0           ['Store_flt[0][0]',              \n",
      "                                                                  'DayOfWeek_flt[0][0]',          \n",
      "                                                                  'Year_flt[0][0]',               \n",
      "                                                                  'Month_flt[0][0]',              \n",
      "                                                                  'Day_flt[0][0]',                \n",
      "                                                                  'StateHoliday_flt[0][0]',       \n",
      "                                                                  'CompetitionMonthsOpen_flt[0][0]\n",
      "                                                                 ',                               \n",
      "                                                                  'Promo2Weeks_flt[0][0]',        \n",
      "                                                                  'StoreType_flt[0][0]',          \n",
      "                                                                  'Assortment_flt[0][0]',         \n",
      "                                                                  'PromoInterval_flt[0][0]',      \n",
      "                                                                  'CompetitionOpenSinceYear_flt[0]\n",
      "                                                                 [0]',                            \n",
      "                                                                  'Promo2SinceYear_flt[0][0]',    \n",
      "                                                                  'State_flt[0][0]',              \n",
      "                                                                  'Week_flt[0][0]',               \n",
      "                                                                  'Events_flt[0][0]',             \n",
      "                                                                  'Promo_fw_flt[0][0]',           \n",
      "                                                                  'Promo_bw_flt[0][0]',           \n",
      "                                                                  'SchoolHoliday_fw_flt[0][0]',   \n",
      "                                                                  'SchoolHoliday_bw_flt[0][0]',   \n",
      "                                                                  'CompetitionDistance_d[0][0]',  \n",
      "                                                                  'Max_TemperatureC_d[0][0]',     \n",
      "                                                                  'Mean_TemperatureC_d[0][0]',    \n",
      "                                                                  'Min_TemperatureC_d[0][0]',     \n",
      "                                                                  'Precipitationmm_d[0][0]',      \n",
      "                                                                  'Max_Humidity_d[0][0]',         \n",
      "                                                                  'Mean_Humidity_d[0][0]',        \n",
      "                                                                  'Min_Humidity_d[0][0]',         \n",
      "                                                                  'Max_Wind_SpeedKm_h_d[0][0]',   \n",
      "                                                                  'Mean_Wind_SpeedKm_h_d[0][0]',  \n",
      "                                                                  'CloudCover_d[0][0]',           \n",
      "                                                                  'trend_d[0][0]',                \n",
      "                                                                  'trend_DE_d[0][0]',             \n",
      "                                                                  'AfterStateHoliday_bool_d[0][0]'\n",
      "                                                                 , 'BeforeStateHoliday_bool_d[0][0\n",
      "                                                                 ]',                              \n",
      "                                                                  'Promo_d[0][0]',                \n",
      "                                                                  'SchoolHoliday_d[0][0]',        \n",
      "                                                                  'StateHoliday_bool_d[0][0]']    \n",
      "                                                                                                  \n",
      " dropout_21 (Dropout)           (None, 162)          0           ['All_Concatenate[0][0]']        \n",
      "                                                                                                  \n",
      " dense_60 (Dense)               (None, 1000)         163000      ['dropout_21[0][0]']             \n",
      "                                                                                                  \n",
      " dense_61 (Dense)               (None, 500)          500500      ['dense_60[0][0]']               \n",
      "                                                                                                  \n",
      " dense_62 (Dense)               (None, 1)            501         ['dense_61[0][0]']               \n",
      "                                                                                                  \n",
      "==================================================================================================\n",
      "Total params: 722,089\n",
      "Trainable params: 722,089\n",
      "Non-trainable params: 0\n",
      "__________________________________________________________________________________________________\n"
     ]
    },
    {
     "data": {
      "text/plain": [
       "None"
      ]
     },
     "metadata": {},
     "output_type": "display_data"
    },
    {
     "name": "stdout",
     "output_type": "stream",
     "text": [
      "Epoch 1/10\n",
      "5934/5937 [============================>.] - ETA: 0s - loss: 0.0166\n",
      "Epoch 1: val_loss improved from inf to 0.01807, saving model to bestmodel.hdf5\n",
      "5937/5937 [==============================] - 86s 14ms/step - loss: 0.0166 - val_loss: 0.0181\n",
      "Epoch 2/10\n",
      "5934/5937 [============================>.] - ETA: 0s - loss: 0.0123\n",
      "Epoch 2: val_loss improved from 0.01807 to 0.01784, saving model to bestmodel.hdf5\n",
      "5937/5937 [==============================] - 82s 14ms/step - loss: 0.0123 - val_loss: 0.0178\n",
      "Epoch 3/10\n",
      "5937/5937 [==============================] - ETA: 0s - loss: 0.0114\n",
      "Epoch 3: val_loss did not improve from 0.01784\n",
      "5937/5937 [==============================] - 83s 14ms/step - loss: 0.0114 - val_loss: 0.0183\n",
      "Epoch 4/10\n",
      "5937/5937 [==============================] - ETA: 0s - loss: 0.0109\n",
      "Epoch 4: val_loss improved from 0.01784 to 0.01766, saving model to bestmodel.hdf5\n",
      "5937/5937 [==============================] - 87s 15ms/step - loss: 0.0109 - val_loss: 0.0177\n",
      "Epoch 5/10\n",
      "5935/5937 [============================>.] - ETA: 0s - loss: 0.0105\n",
      "Epoch 5: val_loss improved from 0.01766 to 0.01720, saving model to bestmodel.hdf5\n",
      "5937/5937 [==============================] - 83s 14ms/step - loss: 0.0105 - val_loss: 0.0172\n",
      "Epoch 6/10\n",
      "5936/5937 [============================>.] - ETA: 0s - loss: 0.0102\n",
      "Epoch 6: val_loss improved from 0.01720 to 0.01704, saving model to bestmodel.hdf5\n",
      "5937/5937 [==============================] - 87s 15ms/step - loss: 0.0102 - val_loss: 0.0170\n",
      "Epoch 7/10\n",
      "5934/5937 [============================>.] - ETA: 0s - loss: 0.0100\n",
      "Epoch 7: val_loss did not improve from 0.01704\n",
      "5937/5937 [==============================] - 86s 14ms/step - loss: 0.0100 - val_loss: 0.0175\n",
      "Epoch 8/10\n",
      "5935/5937 [============================>.] - ETA: 0s - loss: 0.0098\n",
      "Epoch 8: val_loss improved from 0.01704 to 0.01644, saving model to bestmodel.hdf5\n",
      "5937/5937 [==============================] - 81s 14ms/step - loss: 0.0098 - val_loss: 0.0164\n",
      "Epoch 9/10\n",
      "5933/5937 [============================>.] - ETA: 0s - loss: 0.0097\n",
      "Epoch 9: val_loss did not improve from 0.01644\n",
      "5937/5937 [==============================] - 81s 14ms/step - loss: 0.0097 - val_loss: 0.0168\n",
      "Epoch 10/10\n",
      "5936/5937 [============================>.] - ETA: 0s - loss: 0.0096\n",
      "Epoch 10: val_loss improved from 0.01644 to 0.01632, saving model to bestmodel.hdf5\n",
      "5937/5937 [==============================] - 82s 14ms/step - loss: 0.0096 - val_loss: 0.0163\n",
      "[0.01807266 0.01783982 0.01827312 0.01765516 0.01719747 0.01703849\n",
      " 0.01750974 0.01644059 0.0167958  0.01631661]\n",
      "0.01631660759449005\n"
     ]
    }
   ],
   "source": [
    "map_train, map_valid = split_data()\n",
    "\n",
    "model = get_model()\n",
    "# display(model.summary())\n",
    "hist = np.array(train(model, map_train, map_valid, 128, 10).history['val_loss'])\n",
    "print(hist)\n",
    "print(hist.min())"
   ]
  },
  {
   "cell_type": "code",
   "execution_count": 276,
   "id": "be0ca5a8-0ffd-45cf-854a-a3e4f8a7695b",
   "metadata": {},
   "outputs": [
    {
     "data": {
      "text/plain": [
       "[(Index(['Store'], dtype='object'), (759904, 1)),\n",
       " (Index(['DayOfWeek'], dtype='object'), (759904, 1)),\n",
       " (Index(['Year'], dtype='object'), (759904, 1)),\n",
       " (Index(['Month'], dtype='object'), (759904, 1)),\n",
       " (Index(['Day'], dtype='object'), (759904, 1)),\n",
       " (Index(['StateHoliday'], dtype='object'), (759904, 1)),\n",
       " (Index(['CompetitionMonthsOpen'], dtype='object'), (759904, 1)),\n",
       " (Index(['Promo2Weeks'], dtype='object'), (759904, 1)),\n",
       " (Index(['StoreType'], dtype='object'), (759904, 1)),\n",
       " (Index(['Assortment'], dtype='object'), (759904, 1)),\n",
       " (Index(['PromoInterval'], dtype='object'), (759904, 1)),\n",
       " (Index(['CompetitionOpenSinceYear'], dtype='object'), (759904, 1)),\n",
       " (Index(['Promo2SinceYear'], dtype='object'), (759904, 1)),\n",
       " (Index(['State'], dtype='object'), (759904, 1)),\n",
       " (Index(['Week'], dtype='object'), (759904, 1)),\n",
       " (Index(['Events'], dtype='object'), (759904, 1)),\n",
       " (Index(['Promo_fw'], dtype='object'), (759904, 1)),\n",
       " (Index(['Promo_bw'], dtype='object'), (759904, 1)),\n",
       " (Index(['SchoolHoliday_fw'], dtype='object'), (759904, 1)),\n",
       " (Index(['SchoolHoliday_bw'], dtype='object'), (759904, 1)),\n",
       " (Index(['CompetitionDistance'], dtype='object'), (759904, 1)),\n",
       " (Index(['Max_TemperatureC'], dtype='object'), (759904, 1)),\n",
       " (Index(['Mean_TemperatureC'], dtype='object'), (759904, 1)),\n",
       " (Index(['Min_TemperatureC'], dtype='object'), (759904, 1)),\n",
       " (Index(['Precipitationmm'], dtype='object'), (759904, 1)),\n",
       " (Index(['Max_Humidity'], dtype='object'), (759904, 1)),\n",
       " (Index(['Mean_Humidity'], dtype='object'), (759904, 1)),\n",
       " (Index(['Min_Humidity'], dtype='object'), (759904, 1)),\n",
       " (Index(['Max_Wind_SpeedKm_h'], dtype='object'), (759904, 1)),\n",
       " (Index(['Mean_Wind_SpeedKm_h'], dtype='object'), (759904, 1)),\n",
       " (Index(['CloudCover'], dtype='object'), (759904, 1)),\n",
       " (Index(['trend'], dtype='object'), (759904, 1)),\n",
       " (Index(['trend_DE'], dtype='object'), (759904, 1)),\n",
       " (Index(['AfterStateHoliday_bool'], dtype='object'), (759904, 1)),\n",
       " (Index(['BeforeStateHoliday_bool'], dtype='object'), (759904, 1)),\n",
       " (Index(['Promo'], dtype='object'), (759904, 1)),\n",
       " (Index(['SchoolHoliday'], dtype='object'), (759904, 1)),\n",
       " (Index(['StateHoliday_bool'], dtype='object'), (759904, 1))]"
      ]
     },
     "execution_count": 276,
     "metadata": {},
     "output_type": "execute_result"
    }
   ],
   "source": [
    "[(name.columns,name.shape) for name in map_train]"
   ]
  },
  {
   "cell_type": "markdown",
   "id": "a3cc57cc-f536-419e-9afb-46409024e67c",
   "metadata": {},
   "source": [
    "# Submit Competition"
   ]
  },
  {
   "cell_type": "code",
   "execution_count": 302,
   "id": "5a02a6a2-962d-4c11-8bed-03394484c141",
   "metadata": {},
   "outputs": [],
   "source": [
    "model.load_weights('bestmodel.hdf5')"
   ]
  },
  {
   "cell_type": "code",
   "execution_count": 305,
   "id": "22cc657b-f3c5-49ea-bffa-0d3696b93acf",
   "metadata": {},
   "outputs": [
    {
     "name": "stdout",
     "output_type": "stream",
     "text": [
      "2639/2639 [==============================] - 8s 3ms/step\n"
     ]
    },
    {
     "ename": "ValueError",
     "evalue": "Failed to convert a NumPy array to a Tensor (Unsupported object type int).",
     "output_type": "error",
     "traceback": [
      "\u001b[0;31m---------------------------------------------------------------------------\u001b[0m",
      "\u001b[0;31mValueError\u001b[0m                                Traceback (most recent call last)",
      "Cell \u001b[0;32mIn [305], line 2\u001b[0m\n\u001b[1;32m      1\u001b[0m y_pred \u001b[38;5;241m=\u001b[39m model\u001b[38;5;241m.\u001b[39mpredict(map_valid, verbose\u001b[38;5;241m=\u001b[39m\u001b[38;5;241m1\u001b[39m)[:,\u001b[38;5;241m0\u001b[39m]\u001b[38;5;66;03m#*y_max\u001b[39;00m\n\u001b[0;32m----> 2\u001b[0m y_pred_test \u001b[38;5;241m=\u001b[39m \u001b[43mmodel\u001b[49m\u001b[38;5;241;43m.\u001b[39;49m\u001b[43mpredict\u001b[49m\u001b[43m(\u001b[49m\u001b[43mdf_test\u001b[49m\u001b[43m,\u001b[49m\u001b[43m \u001b[49m\u001b[43mverbose\u001b[49m\u001b[38;5;241;43m=\u001b[39;49m\u001b[38;5;241;43m1\u001b[39;49m\u001b[43m)\u001b[49m[:,\u001b[38;5;241m0\u001b[39m]\u001b[38;5;66;03m#*y_max\u001b[39;00m\n\u001b[1;32m      4\u001b[0m np\u001b[38;5;241m.\u001b[39msqrt((((df_val[\u001b[38;5;124m'\u001b[39m\u001b[38;5;124mSales\u001b[39m\u001b[38;5;124m'\u001b[39m]\u001b[38;5;241m.\u001b[39mvalues \u001b[38;5;241m-\u001b[39m y_pred)\u001b[38;5;241m/\u001b[39m(df_val[\u001b[38;5;124m'\u001b[39m\u001b[38;5;124mSales\u001b[39m\u001b[38;5;124m'\u001b[39m]\u001b[38;5;241m.\u001b[39mvalues \u001b[38;5;241m+\u001b[39m \u001b[38;5;241m1e-8\u001b[39m))\u001b[38;5;241m*\u001b[39m\u001b[38;5;241m*\u001b[39m\u001b[38;5;241m2\u001b[39m)\u001b[38;5;241m.\u001b[39msum()\u001b[38;5;241m/\u001b[39m\u001b[38;5;28mlen\u001b[39m(y_pred))\n",
      "File \u001b[0;32m~/opt/anaconda3/envs/itba/lib/python3.10/site-packages/keras/utils/traceback_utils.py:67\u001b[0m, in \u001b[0;36mfilter_traceback.<locals>.error_handler\u001b[0;34m(*args, **kwargs)\u001b[0m\n\u001b[1;32m     65\u001b[0m \u001b[38;5;28;01mexcept\u001b[39;00m \u001b[38;5;167;01mException\u001b[39;00m \u001b[38;5;28;01mas\u001b[39;00m e:  \u001b[38;5;66;03m# pylint: disable=broad-except\u001b[39;00m\n\u001b[1;32m     66\u001b[0m   filtered_tb \u001b[38;5;241m=\u001b[39m _process_traceback_frames(e\u001b[38;5;241m.\u001b[39m__traceback__)\n\u001b[0;32m---> 67\u001b[0m   \u001b[38;5;28;01mraise\u001b[39;00m e\u001b[38;5;241m.\u001b[39mwith_traceback(filtered_tb) \u001b[38;5;28;01mfrom\u001b[39;00m \u001b[38;5;28mNone\u001b[39m\n\u001b[1;32m     68\u001b[0m \u001b[38;5;28;01mfinally\u001b[39;00m:\n\u001b[1;32m     69\u001b[0m   \u001b[38;5;28;01mdel\u001b[39;00m filtered_tb\n",
      "File \u001b[0;32m~/opt/anaconda3/envs/itba/lib/python3.10/site-packages/tensorflow/python/framework/constant_op.py:102\u001b[0m, in \u001b[0;36mconvert_to_eager_tensor\u001b[0;34m(value, ctx, dtype)\u001b[0m\n\u001b[1;32m    100\u001b[0m     dtype \u001b[38;5;241m=\u001b[39m dtypes\u001b[38;5;241m.\u001b[39mas_dtype(dtype)\u001b[38;5;241m.\u001b[39mas_datatype_enum\n\u001b[1;32m    101\u001b[0m ctx\u001b[38;5;241m.\u001b[39mensure_initialized()\n\u001b[0;32m--> 102\u001b[0m \u001b[38;5;28;01mreturn\u001b[39;00m \u001b[43mops\u001b[49m\u001b[38;5;241;43m.\u001b[39;49m\u001b[43mEagerTensor\u001b[49m\u001b[43m(\u001b[49m\u001b[43mvalue\u001b[49m\u001b[43m,\u001b[49m\u001b[43m \u001b[49m\u001b[43mctx\u001b[49m\u001b[38;5;241;43m.\u001b[39;49m\u001b[43mdevice_name\u001b[49m\u001b[43m,\u001b[49m\u001b[43m \u001b[49m\u001b[43mdtype\u001b[49m\u001b[43m)\u001b[49m\n",
      "\u001b[0;31mValueError\u001b[0m: Failed to convert a NumPy array to a Tensor (Unsupported object type int)."
     ]
    }
   ],
   "source": [
    "y_pred = model.predict(map_valid, verbose=1)[:,0]#*y_max\n",
    "y_pred_test = model.predict(df_test, verbose=1)[:,0]#*y_max\n",
    "\n",
    "np.sqrt((((df_val['Sales'].values - y_pred)/(df_val['Sales'].values + 1e-8))**2).sum()/len(y_pred))\n",
    "        "
   ]
  },
  {
   "cell_type": "code",
   "execution_count": null,
   "id": "bc050aee-1255-412b-b6d8-26f3e376c7dc",
   "metadata": {},
   "outputs": [],
   "source": [
    "sample_csv = pd.read_csv('rossmann/sample_submission.csv')\n",
    "sample_csv['Sales'] = y_pred_test\n",
    "sample_csv.head()\n",
    "\n",
    "sample_csv.to_csv(f'submision_{add_customers}-{log_output}-{output_activation}-{l2_lambda}-{first_hidden_units}-{epochs}-{batch_size}-{lr}.csv', index=False)"
   ]
  },
  {
   "cell_type": "code",
   "execution_count": null,
   "id": "32832aa3-a93d-494a-8025-fd741dc20fdb",
   "metadata": {},
   "outputs": [],
   "source": []
  },
  {
   "cell_type": "code",
   "execution_count": null,
   "id": "a07eb310-981b-4c00-9797-a79536e618df",
   "metadata": {},
   "outputs": [],
   "source": []
  }
 ],
 "metadata": {
  "kernelspec": {
   "display_name": "Python 3 (ipykernel)",
   "language": "python",
   "name": "python3"
  },
  "language_info": {
   "codemirror_mode": {
    "name": "ipython",
    "version": 3
   },
   "file_extension": ".py",
   "mimetype": "text/x-python",
   "name": "python",
   "nbconvert_exporter": "python",
   "pygments_lexer": "ipython3",
   "version": "3.10.0"
  }
 },
 "nbformat": 4,
 "nbformat_minor": 5
}
