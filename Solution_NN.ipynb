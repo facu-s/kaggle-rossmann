{
 "cells": [
  {
   "cell_type": "markdown",
   "id": "f74d36d3-aca1-44e4-9e08-f8e7743ec075",
   "metadata": {},
   "source": [
    "# Library Packages"
   ]
  },
  {
   "cell_type": "code",
   "execution_count": 48,
   "id": "d6f9fbbd-17c6-4c86-b51e-cf9b1f826cd3",
   "metadata": {},
   "outputs": [
    {
     "name": "stderr",
     "output_type": "stream",
     "text": [
      "2023-02-14 22:58:08.960489: I tensorflow/compiler/jit/xla_gpu_device.cc:99] Not creating XLA devices, tf_xla_enable_xla_devices not set\n",
      "/home/facu/anaconda3/envs/tf-gpu/lib/python3.9/site-packages/tensorflow/python/client/session.py:1761: UserWarning: An interactive session is already active. This can cause out-of-memory errors in some cases. You must explicitly call `InteractiveSession.close()` to release resources held by the other session(s).\n",
      "  warnings.warn('An interactive session is already active. This can '\n"
     ]
    }
   ],
   "source": [
    "from tensorflow.compat.v1 import ConfigProto\n",
    "from tensorflow.compat.v1 import InteractiveSession\n",
    "config = ConfigProto()\n",
    "config.gpu_options.allow_growth = True\n",
    "session = InteractiveSession(config=config)"
   ]
  },
  {
   "cell_type": "code",
   "execution_count": 49,
   "id": "40870c8b-7112-45f3-bfd3-8fb9be045a35",
   "metadata": {},
   "outputs": [],
   "source": [
    "import pandas as pd\n",
    "import numpy as np\n",
    "import datetime\n",
    "from pandas_summary import DataFrameSummary\n",
    "from tensorflow.keras.utils import to_categorical\n",
    "import matplotlib.pyplot as plt\n",
    "import seaborn as sns"
   ]
  },
  {
   "cell_type": "code",
   "execution_count": 50,
   "id": "7b1c5eba-1ab2-4534-a944-7b1d2b889e57",
   "metadata": {},
   "outputs": [],
   "source": [
    "from tensorflow.keras.models import Model\n",
    "from tensorflow.keras.callbacks import ModelCheckpoint\n",
    "from tensorflow.keras.optimizers import Adam\n",
    "from tensorflow.keras.layers import Embedding, Input, Flatten, Concatenate, Dense, BatchNormalization, Activation, LeakyReLU, Dropout\n",
    "from tensorflow.keras.regularizers import l2\n",
    "from tensorflow.keras import initializers"
   ]
  },
  {
   "cell_type": "markdown",
   "id": "e3f80197-5968-44ce-bfeb-95cf72a0675e",
   "metadata": {},
   "source": [
    "# Load Normalized Data\n",
    "\n",
    "This data have been cleaned, and normalized with\n",
    "* LabelEncoders - for categorical variables\n",
    "* StandardScaler - for continuous variables"
   ]
  },
  {
   "cell_type": "code",
   "execution_count": 51,
   "id": "34f78e99-9fd1-432c-88cc-dda58ce0c596",
   "metadata": {},
   "outputs": [],
   "source": [
    "df = pd.read_feather('train_normalized_data.fth')\n",
    "df_test = pd.read_feather('test_normalized_data.fth')\n",
    "df.drop('index',axis='columns',inplace=True)"
   ]
  },
  {
   "cell_type": "markdown",
   "id": "da6bb8d8-8b09-45ec-ad6a-3fe41f290a79",
   "metadata": {},
   "source": [
    "Columns in each dataset"
   ]
  },
  {
   "cell_type": "code",
   "execution_count": 52,
   "id": "c083c733-36df-4c99-9108-960613cd9d71",
   "metadata": {},
   "outputs": [
    {
     "data": {
      "text/plain": [
       "{'Customers', 'Sales'}"
      ]
     },
     "execution_count": 52,
     "metadata": {},
     "output_type": "execute_result"
    }
   ],
   "source": [
    "set(df.columns.tolist())-set(df_test.columns.tolist())"
   ]
  },
  {
   "cell_type": "markdown",
   "id": "36112cbf-e3b4-4696-90c8-43431ce7e6b7",
   "metadata": {},
   "source": [
    "# Data Analysis\n",
    "Check some correlations between columns that will give us information about how to build the NN"
   ]
  },
  {
   "cell_type": "code",
   "execution_count": 53,
   "id": "2e21a82d-586f-4af8-88d2-0495871b8d58",
   "metadata": {},
   "outputs": [
    {
     "data": {
      "text/plain": [
       "Index(['Store', 'DayOfWeek', 'Date', 'Sales', 'Customers', 'Open', 'Promo',\n",
       "       'StateHoliday', 'SchoolHoliday', 'Year', 'Month', 'Week', 'Day',\n",
       "       'StoreType', 'Assortment', 'CompetitionDistance',\n",
       "       'CompetitionOpenSinceMonth', 'CompetitionOpenSinceYear', 'Promo2',\n",
       "       'Promo2SinceWeek', 'Promo2SinceYear', 'PromoInterval',\n",
       "       'CompetitionOpenSince', 'Promo2Since', 'State', 'file', 'week', 'trend',\n",
       "       'Date_y', 'Month_y', 'Day_y', 'file_DE', 'week_DE', 'trend_DE',\n",
       "       'Date_DE', 'State_DE', 'Month_DE', 'Day_DE', 'file_y',\n",
       "       'Max_TemperatureC', 'Mean_TemperatureC', 'Min_TemperatureC',\n",
       "       'Dew_PointC', 'MeanDew_PointC', 'Min_DewpointC', 'Max_Humidity',\n",
       "       'Mean_Humidity', 'Min_Humidity', 'Max_Sea_Level_PressurehPa',\n",
       "       'Mean_Sea_Level_PressurehPa', 'Min_Sea_Level_PressurehPa',\n",
       "       'Max_VisibilityKm', 'Mean_VisibilityKm', 'Min_VisibilitykM',\n",
       "       'Max_Wind_SpeedKm_h', 'Mean_Wind_SpeedKm_h', 'Max_Gust_SpeedKm_h',\n",
       "       'Precipitationmm', 'CloudCover', 'Events', 'WindDirDegrees',\n",
       "       'StateName', 'Year_y', 'Week_y', 'CompetitionDaysOpen',\n",
       "       'CompetitionMonthsOpen', 'Promo2Days', 'Promo2Weeks',\n",
       "       'StateHoliday_bool', 'AfterSchoolHoliday', 'BeforeSchoolHoliday',\n",
       "       'AfterStateHoliday_bool', 'BeforeStateHoliday_bool', 'AfterPromo',\n",
       "       'BeforePromo', 'SchoolHoliday_bw', 'StateHoliday_bool_bw', 'Promo_bw',\n",
       "       'SchoolHoliday_fw', 'StateHoliday_bool_fw', 'Promo_fw'],\n",
       "      dtype='object')"
      ]
     },
     "execution_count": 53,
     "metadata": {},
     "output_type": "execute_result"
    }
   ],
   "source": [
    "df.columns"
   ]
  },
  {
   "cell_type": "code",
   "execution_count": 54,
   "id": "0e18a1ba-2e77-4792-9ca9-685eaa2af9eb",
   "metadata": {},
   "outputs": [
    {
     "data": {
      "text/plain": [
       "<seaborn.axisgrid.FacetGrid at 0x7fc5700416d0>"
      ]
     },
     "execution_count": 54,
     "metadata": {},
     "output_type": "execute_result"
    },
    {
     "data": {
      "image/png": "[encoded data removed]",
      "text/plain": [
       "<Figure size 500x500 with 1 Axes>"
      ]
     },
     "metadata": {},
     "output_type": "display_data"
    }
   ],
   "source": [
    "sns.displot(y=df.Sales,x=df.Month,bins=12)"
   ]
  },
  {
   "cell_type": "code",
   "execution_count": 55,
   "id": "1324aa54-65b7-40ca-8ab7-ae3b6854041d",
   "metadata": {},
   "outputs": [
    {
     "data": {
      "text/plain": [
       "<seaborn.axisgrid.FacetGrid at 0x7fc4ec0968b0>"
      ]
     },
     "execution_count": 55,
     "metadata": {},
     "output_type": "execute_result"
    },
    {
     "data": {
      "image/png": "[encoded data removed]",
      "text/plain": [
       "<Figure size 500x500 with 1 Axes>"
      ]
     },
     "metadata": {},
     "output_type": "display_data"
    }
   ],
   "source": [
    "sns.displot(y=df.Sales,x=df.DayOfWeek,bins=12)"
   ]
  },
  {
   "cell_type": "code",
   "execution_count": 56,
   "id": "cd527528-a23d-49ca-b5b8-7dadf06fb1da",
   "metadata": {},
   "outputs": [
    {
     "name": "stderr",
     "output_type": "stream",
     "text": [
      "/tmp/ipykernel_33453/1491233022.py:1: FutureWarning: The default value of numeric_only in DataFrame.corr is deprecated. In a future version, it will default to False. Select only valid columns or specify the value of numeric_only to silence this warning.\n",
      "  corr_df = df.corr().loc['Sales'].apply(lambda x: np.abs(x))\n"
     ]
    },
    {
     "data": {
      "text/plain": [
       "DayOfWeek               0.178753\n",
       "Sales                   1.000000\n",
       "Customers               0.823552\n",
       "Promo                   0.368199\n",
       "Assortment              0.109015\n",
       "Promo2                  0.127556\n",
       "Promo2SinceYear         0.119537\n",
       "PromoInterval           0.120710\n",
       "Promo2Days              0.132413\n",
       "AfterPromo              0.183822\n",
       "BeforePromo             0.280666\n",
       "StateHoliday_bool_fw    0.110463\n",
       "Promo_fw                0.190073\n",
       "Name: Sales, dtype: float64"
      ]
     },
     "execution_count": 56,
     "metadata": {},
     "output_type": "execute_result"
    }
   ],
   "source": [
    "corr_df = df.corr().loc['Sales'].apply(lambda x: np.abs(x))\n",
    "# corr_df = corr_df[corr_df > 0.5\n",
    "# corr_df\n",
    "corr_df[corr_df>0.1]"
   ]
  },
  {
   "cell_type": "code",
   "execution_count": 57,
   "id": "033519fe-0587-4d82-baed-c69e70fd833f",
   "metadata": {},
   "outputs": [
    {
     "name": "stderr",
     "output_type": "stream",
     "text": [
      "/tmp/ipykernel_33453/1216867301.py:1: FutureWarning: The default value of numeric_only in DataFrame.corr is deprecated. In a future version, it will default to False. Select only valid columns or specify the value of numeric_only to silence this warning.\n",
      "  DataFrameSummary(df).summary().loc[['uniques', 'types', 'missing']]\n"
     ]
    },
    {
     "data": {
      "text/html": [
       "<div>\n",
       "<style scoped>\n",
       "    .dataframe tbody tr th:only-of-type {\n",
       "        vertical-align: middle;\n",
       "    }\n",
       "\n",
       "    .dataframe tbody tr th {\n",
       "        vertical-align: top;\n",
       "    }\n",
       "\n",
       "    .dataframe thead th {\n",
       "        text-align: right;\n",
       "    }\n",
       "</style>\n",
       "<table border=\"1\" class=\"dataframe\">\n",
       "  <thead>\n",
       "    <tr style=\"text-align: right;\">\n",
       "      <th></th>\n",
       "      <th>Store</th>\n",
       "      <th>DayOfWeek</th>\n",
       "      <th>Date</th>\n",
       "      <th>Sales</th>\n",
       "      <th>Customers</th>\n",
       "      <th>Open</th>\n",
       "      <th>Promo</th>\n",
       "      <th>StateHoliday</th>\n",
       "      <th>SchoolHoliday</th>\n",
       "      <th>Year</th>\n",
       "      <th>...</th>\n",
       "      <th>AfterStateHoliday_bool</th>\n",
       "      <th>BeforeStateHoliday_bool</th>\n",
       "      <th>AfterPromo</th>\n",
       "      <th>BeforePromo</th>\n",
       "      <th>SchoolHoliday_bw</th>\n",
       "      <th>StateHoliday_bool_bw</th>\n",
       "      <th>Promo_bw</th>\n",
       "      <th>SchoolHoliday_fw</th>\n",
       "      <th>StateHoliday_bool_fw</th>\n",
       "      <th>Promo_fw</th>\n",
       "    </tr>\n",
       "  </thead>\n",
       "  <tbody>\n",
       "    <tr>\n",
       "      <th>uniques</th>\n",
       "      <td>1115</td>\n",
       "      <td>7</td>\n",
       "      <td>942</td>\n",
       "      <td>21733</td>\n",
       "      <td>4083</td>\n",
       "      <td>1</td>\n",
       "      <td>2</td>\n",
       "      <td>4</td>\n",
       "      <td>2</td>\n",
       "      <td>3</td>\n",
       "      <td>...</td>\n",
       "      <td>136</td>\n",
       "      <td>147</td>\n",
       "      <td>21</td>\n",
       "      <td>17</td>\n",
       "      <td>8</td>\n",
       "      <td>3</td>\n",
       "      <td>6</td>\n",
       "      <td>8</td>\n",
       "      <td>3</td>\n",
       "      <td>6</td>\n",
       "    </tr>\n",
       "    <tr>\n",
       "      <th>types</th>\n",
       "      <td>numeric</td>\n",
       "      <td>numeric</td>\n",
       "      <td>date</td>\n",
       "      <td>numeric</td>\n",
       "      <td>numeric</td>\n",
       "      <td>constant</td>\n",
       "      <td>bool</td>\n",
       "      <td>numeric</td>\n",
       "      <td>bool</td>\n",
       "      <td>numeric</td>\n",
       "      <td>...</td>\n",
       "      <td>numeric</td>\n",
       "      <td>numeric</td>\n",
       "      <td>numeric</td>\n",
       "      <td>numeric</td>\n",
       "      <td>numeric</td>\n",
       "      <td>numeric</td>\n",
       "      <td>numeric</td>\n",
       "      <td>numeric</td>\n",
       "      <td>numeric</td>\n",
       "      <td>numeric</td>\n",
       "    </tr>\n",
       "    <tr>\n",
       "      <th>missing</th>\n",
       "      <td>0</td>\n",
       "      <td>0</td>\n",
       "      <td>0</td>\n",
       "      <td>0</td>\n",
       "      <td>0</td>\n",
       "      <td>0</td>\n",
       "      <td>0</td>\n",
       "      <td>0</td>\n",
       "      <td>0</td>\n",
       "      <td>0</td>\n",
       "      <td>...</td>\n",
       "      <td>0</td>\n",
       "      <td>0</td>\n",
       "      <td>0</td>\n",
       "      <td>0</td>\n",
       "      <td>0</td>\n",
       "      <td>0</td>\n",
       "      <td>0</td>\n",
       "      <td>0</td>\n",
       "      <td>0</td>\n",
       "      <td>0</td>\n",
       "    </tr>\n",
       "  </tbody>\n",
       "</table>\n",
       "<p>3 rows × 81 columns</p>\n",
       "</div>"
      ],
      "text/plain": [
       "           Store DayOfWeek  Date    Sales Customers      Open Promo  \\\n",
       "uniques     1115         7   942    21733      4083         1     2   \n",
       "types    numeric   numeric  date  numeric   numeric  constant  bool   \n",
       "missing        0         0     0        0         0         0     0   \n",
       "\n",
       "        StateHoliday SchoolHoliday     Year  ... AfterStateHoliday_bool  \\\n",
       "uniques            4             2        3  ...                    136   \n",
       "types        numeric          bool  numeric  ...                numeric   \n",
       "missing            0             0        0  ...                      0   \n",
       "\n",
       "        BeforeStateHoliday_bool AfterPromo BeforePromo SchoolHoliday_bw  \\\n",
       "uniques                     147         21          17                8   \n",
       "types                   numeric    numeric     numeric          numeric   \n",
       "missing                       0          0           0                0   \n",
       "\n",
       "        StateHoliday_bool_bw Promo_bw SchoolHoliday_fw StateHoliday_bool_fw  \\\n",
       "uniques                    3        6                8                    3   \n",
       "types                numeric  numeric          numeric              numeric   \n",
       "missing                    0        0                0                    0   \n",
       "\n",
       "        Promo_fw  \n",
       "uniques        6  \n",
       "types    numeric  \n",
       "missing        0  \n",
       "\n",
       "[3 rows x 81 columns]"
      ]
     },
     "execution_count": 57,
     "metadata": {},
     "output_type": "execute_result"
    }
   ],
   "source": [
    "DataFrameSummary(df).summary().loc[['uniques', 'types', 'missing']]"
   ]
  },
  {
   "cell_type": "code",
   "execution_count": 58,
   "id": "69893c4f-6e1d-42b1-8d00-7b4c37b9061f",
   "metadata": {},
   "outputs": [
    {
     "name": "stderr",
     "output_type": "stream",
     "text": [
      "/tmp/ipykernel_33453/190154049.py:1: FutureWarning: The default value of numeric_only in DataFrame.corr is deprecated. In a future version, it will default to False. Select only valid columns or specify the value of numeric_only to silence this warning.\n",
      "  DataFrameSummary(df).summary().loc[['uniques', 'types', 'missing']].T.groupby('types').max()\n"
     ]
    },
    {
     "data": {
      "text/html": [
       "<div>\n",
       "<style scoped>\n",
       "    .dataframe tbody tr th:only-of-type {\n",
       "        vertical-align: middle;\n",
       "    }\n",
       "\n",
       "    .dataframe tbody tr th {\n",
       "        vertical-align: top;\n",
       "    }\n",
       "\n",
       "    .dataframe thead th {\n",
       "        text-align: right;\n",
       "    }\n",
       "</style>\n",
       "<table border=\"1\" class=\"dataframe\">\n",
       "  <thead>\n",
       "    <tr style=\"text-align: right;\">\n",
       "      <th></th>\n",
       "      <th>uniques</th>\n",
       "      <th>missing</th>\n",
       "    </tr>\n",
       "    <tr>\n",
       "      <th>types</th>\n",
       "      <th></th>\n",
       "      <th></th>\n",
       "    </tr>\n",
       "  </thead>\n",
       "  <tbody>\n",
       "    <tr>\n",
       "      <th>bool</th>\n",
       "      <td>2</td>\n",
       "      <td>0</td>\n",
       "    </tr>\n",
       "    <tr>\n",
       "      <th>categorical</th>\n",
       "      <td>135</td>\n",
       "      <td>0</td>\n",
       "    </tr>\n",
       "    <tr>\n",
       "      <th>constant</th>\n",
       "      <td>1</td>\n",
       "      <td>0</td>\n",
       "    </tr>\n",
       "    <tr>\n",
       "      <th>date</th>\n",
       "      <td>942</td>\n",
       "      <td>0</td>\n",
       "    </tr>\n",
       "    <tr>\n",
       "      <th>numeric</th>\n",
       "      <td>21733</td>\n",
       "      <td>0</td>\n",
       "    </tr>\n",
       "    <tr>\n",
       "      <th>unique</th>\n",
       "      <td>0</td>\n",
       "      <td>844338</td>\n",
       "    </tr>\n",
       "  </tbody>\n",
       "</table>\n",
       "</div>"
      ],
      "text/plain": [
       "             uniques  missing\n",
       "types                        \n",
       "bool               2        0\n",
       "categorical      135        0\n",
       "constant           1        0\n",
       "date             942        0\n",
       "numeric        21733        0\n",
       "unique             0   844338"
      ]
     },
     "execution_count": 58,
     "metadata": {},
     "output_type": "execute_result"
    }
   ],
   "source": [
    "DataFrameSummary(df).summary().loc[['uniques', 'types', 'missing']].T.groupby('types').max()"
   ]
  },
  {
   "cell_type": "code",
   "execution_count": null,
   "id": "91894b21-2120-4e22-9433-726962c4f31a",
   "metadata": {},
   "outputs": [],
   "source": []
  },
  {
   "cell_type": "markdown",
   "id": "6d0f59e0-ed4b-4439-a247-3e7516f34eb8",
   "metadata": {},
   "source": [
    "# Data Model"
   ]
  },
  {
   "cell_type": "code",
   "execution_count": 59,
   "id": "718add5b-faec-48c9-b42f-e14f4395e92f",
   "metadata": {},
   "outputs": [],
   "source": [
    "# Embeddings dimensionality\n",
    "cat_var_dict = {'Store': 50, 'DayOfWeek': 6, 'Year': 2, 'Month': 6,\n",
    "    'Day': 10, 'StateHoliday': 3, 'CompetitionMonthsOpen': 2,\n",
    "    'Promo2Weeks': 1, 'StoreType': 2, 'Assortment': 3, 'PromoInterval': 3,\n",
    "    'CompetitionOpenSinceYear': 4, 'Promo2SinceYear': 4, 'State': 6,\n",
    "    'Week': 2, 'Events': 4, 'Promo_fw': 1,\n",
    "    'Promo_bw': 1, 'SchoolHoliday_fw': 1,\n",
    "    'SchoolHoliday_bw': 1}"
   ]
  },
  {
   "cell_type": "code",
   "execution_count": 60,
   "id": "4cdbc9b4-9791-4a70-915f-9bb1f358ca09",
   "metadata": {},
   "outputs": [],
   "source": [
    "contin_vars = ['CompetitionDistance', \n",
    "   'Max_TemperatureC', 'Mean_TemperatureC', 'Min_TemperatureC', 'Precipitationmm',\n",
    "   'Max_Humidity', 'Mean_Humidity', 'Min_Humidity', 'Max_Wind_SpeedKm_h', \n",
    "   'Mean_Wind_SpeedKm_h', 'CloudCover', 'trend', 'trend_DE',\n",
    "   'AfterStateHoliday_bool', 'BeforeStateHoliday_bool', 'Promo', 'SchoolHoliday', 'StateHoliday_bool']"
   ]
  },
  {
   "cell_type": "code",
   "execution_count": 61,
   "id": "bae96486-f419-451d-82e8-998c77690229",
   "metadata": {},
   "outputs": [
    {
     "data": {
      "text/plain": [
       "set()"
      ]
     },
     "execution_count": 61,
     "metadata": {},
     "output_type": "execute_result"
    }
   ],
   "source": [
    "# Check all columns on df are consistent with name of variables\n",
    "set(contin_vars+list(cat_var_dict.keys()))-set(df.columns)"
   ]
  },
  {
   "cell_type": "markdown",
   "id": "260b70bd-5e45-41c3-99dd-500358a8b9f4",
   "metadata": {},
   "source": [
    "### Create Embeddings Layers"
   ]
  },
  {
   "cell_type": "code",
   "execution_count": 62,
   "id": "8e019f04-40e4-4387-a4cb-6c886ab202fd",
   "metadata": {},
   "outputs": [],
   "source": [
    "# Recalculate dimensionality\n",
    "for key in cat_var_dict.keys():\n",
    "    dim = len(pd.unique(df[key]))\n",
    "    emb_dim = (dim+2)//3\n",
    "    cat_var_dict[key] = 50 if emb_dim>50 else emb_dim"
   ]
  },
  {
   "cell_type": "code",
   "execution_count": 63,
   "id": "94260092-e3a5-4970-bcdb-38ae8cbf29d8",
   "metadata": {},
   "outputs": [],
   "source": [
    "def get_emb(feat):\n",
    "    name = feat[0]\n",
    "    c = len(pd.unique(df[name]))\n",
    "    c2 = cat_var_dict[name]\n",
    "    inp = Input((1,), dtype='int64', name=name+'_in')\n",
    "    u = Flatten(name=name+'_flt')(Embedding(c, c2, input_length=1)(inp))\n",
    "    # print(\"name: \",name,\" dim: \",c,\" emd_dim: \",c2)\n",
    "    return inp,u"
   ]
  },
  {
   "cell_type": "code",
   "execution_count": 64,
   "id": "f70bced8-2eb8-4eef-878f-aed6f116c45c",
   "metadata": {},
   "outputs": [],
   "source": [
    "# Analyze to use similar initializer\n",
    "# def emb_init(shape, name=None):\n",
    "#     return initializers.uniform(shape, scale=0.6/shape[1], name=name)"
   ]
  },
  {
   "cell_type": "code",
   "execution_count": 65,
   "id": "ad8fc593-b324-46f0-bcc8-d63320eaef8f",
   "metadata": {},
   "outputs": [],
   "source": [
    "# for feat in df[contin_vars].items():\n",
    "#     print(feat[0])\n",
    "# for feat in df[list(cat_var_dict.keys())].items():\n",
    "#     print(feat[0])"
   ]
  },
  {
   "cell_type": "code",
   "execution_count": 66,
   "id": "942280b3-1981-4d6a-8f6a-b6d2179c2db1",
   "metadata": {},
   "outputs": [],
   "source": [
    "def get_contin(feat):\n",
    "    name = feat[0]\n",
    "    inp = Input((1,), name=name+'_in')\n",
    "    return inp, Dense(1, name=name+'_d')(inp)"
   ]
  },
  {
   "cell_type": "code",
   "execution_count": 67,
   "id": "0813d3ef-74fc-403d-bd1a-f246280bea7a",
   "metadata": {},
   "outputs": [],
   "source": [
    "def get_contin_one():\n",
    "    n_contin = df[contin_vars].shape[1]\n",
    "    contin_inp = Input((n_contin,), name='contin')\n",
    "    contin_out = BatchNormalization()(df[contin_vars])\n",
    "    return contin_inp, contin_out"
   ]
  },
  {
   "cell_type": "code",
   "execution_count": 68,
   "id": "1ffd4297-050e-4e98-a560-9851bb6966cd",
   "metadata": {},
   "outputs": [],
   "source": [
    "from tensorflow.keras import backend as K\n",
    "def rmspe(y_true, y_pred):\n",
    "    return K.sqrt(K.mean(K.square((y_true - y_pred)/(y_true))))"
   ]
  },
  {
   "cell_type": "code",
   "execution_count": 69,
   "id": "88de4de8-5668-4720-8861-5f628ea272eb",
   "metadata": {},
   "outputs": [],
   "source": [
    "split_contins = True\n",
    "\n",
    "def get_model():\n",
    "    if split_contins:\n",
    "        conts = [get_contin(feat) for feat in df[contin_vars].items()]\n",
    "        cont_out = [d for inp,d in conts]\n",
    "        cont_inp = [inp for inp,d in conts]\n",
    "    else:\n",
    "        contin_inp, contin_out = get_contin_one()\n",
    "        cont_out = [contin_out]\n",
    "        cont_inp = [contin_inp]\n",
    "\n",
    "    embs = [get_emb(feat) for feat in df[list(cat_var_dict.keys())].items()]\n",
    "    x = Concatenate(name='All_Concatenate')([emb for inp,emb in embs] + cont_out)\n",
    "\n",
    "    x = Dropout(0.02)(x)\n",
    "    x = Dense(1000, activation='relu')(x)\n",
    "    x = Dense(500, activation='relu')(x)\n",
    "    x = Dense(1, activation='sigmoid')(x)\n",
    "\n",
    "    model = Model([inp for inp,emb in embs] + cont_inp, x)\n",
    "    \n",
    "    model.compile('adam', 'mean_absolute_error')\n",
    "    model.compile(optimizer=Adam(learning_rate=0.001), metrics=['mse', rmspe], loss='mse')\n",
    "    # model.compile(Adam(), 'mse')\n",
    "    return model"
   ]
  },
  {
   "cell_type": "code",
   "execution_count": 70,
   "id": "1a48ed13-9707-4ac3-b3b2-33a40c39940a",
   "metadata": {},
   "outputs": [],
   "source": [
    "def train(model, map_train, map_valid,  bs=128, ne=10):\n",
    "\n",
    "    checkpoint = ModelCheckpoint('bestmodel.hdf5', monitor='val_loss', verbose=1, save_best_only=True)\n",
    "\n",
    "    return model.fit(map_train, y_trn, batch_size=bs, epochs=ne, verbose=1, validation_data=(map_valid, y_val), callbacks=[checkpoint])"
   ]
  },
  {
   "cell_type": "markdown",
   "id": "6ea66395-8e2d-49a0-acb0-6bf9232a9cc9",
   "metadata": {},
   "source": [
    "### Train Model and Split Data"
   ]
  },
  {
   "cell_type": "code",
   "execution_count": 71,
   "id": "bac56791-10ce-4fc9-ac74-e8fb2ab7ed91",
   "metadata": {},
   "outputs": [],
   "source": [
    "def split_cols(arr): return np.hsplit(arr,arr.shape[1])"
   ]
  },
  {
   "cell_type": "code",
   "execution_count": 72,
   "id": "a431d568-c1e7-4bda-a148-1ca1ee8d424d",
   "metadata": {},
   "outputs": [],
   "source": [
    "def split_data():\n",
    "    if split_contins:\n",
    "        map_train = split_cols(cats_trn) + split_cols(contins_trn)\n",
    "        map_valid = split_cols(cats_val) + split_cols(contins_val)\n",
    "    else:\n",
    "        map_train = split_cols(cats_trn) + [contins_trn]\n",
    "        map_valid = split_cols(cats_val) + [contins_val]\n",
    "    return (map_train, map_valid)"
   ]
  },
  {
   "cell_type": "code",
   "execution_count": 81,
   "id": "993be6a3-eeb9-42b0-bbd9-bbaf13555616",
   "metadata": {},
   "outputs": [
    {
     "data": {
      "text/plain": [
       "759904"
      ]
     },
     "metadata": {},
     "output_type": "display_data"
    },
    {
     "data": {
      "text/plain": [
       "759904"
      ]
     },
     "metadata": {},
     "output_type": "display_data"
    },
    {
     "data": {
      "text/plain": [
       "759904"
      ]
     },
     "metadata": {},
     "output_type": "display_data"
    }
   ],
   "source": [
    "n=len(df.Sales)\n",
    "\n",
    "train_ratio=0.9\n",
    "train_size = int(n*train_ratio)\n",
    "contins_trn, contins_val = df[contin_vars].loc[:train_size-1], df[contin_vars].loc[train_size:]\n",
    "cats_trn, cats_val       = df[cat_var_dict.keys()].loc[:train_size-1], df[cat_var_dict.keys()].loc[train_size:]\n",
    "max_y_log                = (np.log(df.Sales)).values.max()\n",
    "y_trn, y_val             = np.log(df.Sales.loc[:train_size-1])/max_y_log, np.log(df.Sales.loc[train_size:])/max_y_log\n",
    "# display(contins_trn, contins_val,cats_trn, cats_val,y_trn, y_val)\n",
    "display(len(cats_trn),len(contins_trn),len(y_trn))"
   ]
  },
  {
   "cell_type": "code",
   "execution_count": 82,
   "id": "abf7a3bd-4bbc-4325-9073-2432f311b6a5",
   "metadata": {},
   "outputs": [
    {
     "name": "stdout",
     "output_type": "stream",
     "text": [
      "Epoch 1/10\n",
      "5937/5937 [==============================] - 71s 11ms/step - loss: 9.1162e-04 - mse: 9.1162e-04 - rmspe: 0.0260 - val_loss: 2.8197e-04 - val_mse: 2.8197e-04 - val_rmspe: 0.0198\n",
      "\n",
      "Epoch 00001: val_loss improved from inf to 0.00028, saving model to bestmodel.hdf5\n",
      "Epoch 2/10\n",
      "5937/5937 [==============================] - 65s 11ms/step - loss: 1.1320e-04 - mse: 1.1320e-04 - rmspe: 0.0130 - val_loss: 2.9327e-04 - val_mse: 2.9327e-04 - val_rmspe: 0.0199\n",
      "\n",
      "Epoch 00002: val_loss did not improve from 0.00028\n",
      "Epoch 3/10\n",
      "5937/5937 [==============================] - 66s 11ms/step - loss: 8.9472e-05 - mse: 8.9472e-05 - rmspe: 0.0115 - val_loss: 2.5639e-04 - val_mse: 2.5639e-04 - val_rmspe: 0.0187\n",
      "\n",
      "Epoch 00003: val_loss improved from 0.00028 to 0.00026, saving model to bestmodel.hdf5\n",
      "Epoch 4/10\n",
      "5937/5937 [==============================] - 66s 11ms/step - loss: 7.8301e-05 - mse: 7.8301e-05 - rmspe: 0.0108 - val_loss: 2.6496e-04 - val_mse: 2.6496e-04 - val_rmspe: 0.0193\n",
      "\n",
      "Epoch 00004: val_loss did not improve from 0.00026\n",
      "Epoch 5/10\n",
      "5937/5937 [==============================] - 66s 11ms/step - loss: 7.0992e-05 - mse: 7.0992e-05 - rmspe: 0.0103 - val_loss: 2.4839e-04 - val_mse: 2.4839e-04 - val_rmspe: 0.0186\n",
      "\n",
      "Epoch 00005: val_loss improved from 0.00026 to 0.00025, saving model to bestmodel.hdf5\n",
      "Epoch 6/10\n",
      "5937/5937 [==============================] - 66s 11ms/step - loss: 6.5695e-05 - mse: 6.5695e-05 - rmspe: 0.0099 - val_loss: 2.7057e-04 - val_mse: 2.7057e-04 - val_rmspe: 0.0194\n",
      "\n",
      "Epoch 00006: val_loss did not improve from 0.00025\n",
      "Epoch 7/10\n",
      "5937/5937 [==============================] - 66s 11ms/step - loss: 6.2394e-05 - mse: 6.2394e-05 - rmspe: 0.0096 - val_loss: 2.7161e-04 - val_mse: 2.7161e-04 - val_rmspe: 0.0193\n",
      "\n",
      "Epoch 00007: val_loss did not improve from 0.00025\n",
      "Epoch 8/10\n",
      "5937/5937 [==============================] - 66s 11ms/step - loss: 5.9295e-05 - mse: 5.9295e-05 - rmspe: 0.0094 - val_loss: 2.5851e-04 - val_mse: 2.5851e-04 - val_rmspe: 0.0188\n",
      "\n",
      "Epoch 00008: val_loss did not improve from 0.00025\n",
      "Epoch 9/10\n",
      "5937/5937 [==============================] - 66s 11ms/step - loss: 5.7760e-05 - mse: 5.7760e-05 - rmspe: 0.0093 - val_loss: 2.5731e-04 - val_mse: 2.5731e-04 - val_rmspe: 0.0186\n",
      "\n",
      "Epoch 00009: val_loss did not improve from 0.00025\n",
      "Epoch 10/10\n",
      "5937/5937 [==============================] - 66s 11ms/step - loss: 5.6156e-05 - mse: 5.6156e-05 - rmspe: 0.0091 - val_loss: 2.7807e-04 - val_mse: 2.7807e-04 - val_rmspe: 0.0196\n",
      "\n",
      "Epoch 00010: val_loss did not improve from 0.00025\n",
      "[0.00028197 0.00029327 0.00025639 0.00026496 0.00024839 0.00027057\n",
      " 0.00027161 0.00025851 0.00025731 0.00027807]\n",
      "0.00024839164689183235\n"
     ]
    }
   ],
   "source": [
    "map_train, map_valid = split_data()\n",
    "\n",
    "model = get_model()\n",
    "# display(model.summary())\n",
    "hist = np.array(train(model, map_train, map_valid, 128, 10).history['val_loss'])\n",
    "print(hist)\n",
    "print(hist.min())"
   ]
  },
  {
   "cell_type": "code",
   "execution_count": 83,
   "id": "be0ca5a8-0ffd-45cf-854a-a3e4f8a7695b",
   "metadata": {},
   "outputs": [
    {
     "data": {
      "text/plain": [
       "[(Index(['Store'], dtype='object'), (759904, 1)),\n",
       " (Index(['DayOfWeek'], dtype='object'), (759904, 1)),\n",
       " (Index(['Year'], dtype='object'), (759904, 1)),\n",
       " (Index(['Month'], dtype='object'), (759904, 1)),\n",
       " (Index(['Day'], dtype='object'), (759904, 1)),\n",
       " (Index(['StateHoliday'], dtype='object'), (759904, 1)),\n",
       " (Index(['CompetitionMonthsOpen'], dtype='object'), (759904, 1)),\n",
       " (Index(['Promo2Weeks'], dtype='object'), (759904, 1)),\n",
       " (Index(['StoreType'], dtype='object'), (759904, 1)),\n",
       " (Index(['Assortment'], dtype='object'), (759904, 1)),\n",
       " (Index(['PromoInterval'], dtype='object'), (759904, 1)),\n",
       " (Index(['CompetitionOpenSinceYear'], dtype='object'), (759904, 1)),\n",
       " (Index(['Promo2SinceYear'], dtype='object'), (759904, 1)),\n",
       " (Index(['State'], dtype='object'), (759904, 1)),\n",
       " (Index(['Week'], dtype='object'), (759904, 1)),\n",
       " (Index(['Events'], dtype='object'), (759904, 1)),\n",
       " (Index(['Promo_fw'], dtype='object'), (759904, 1)),\n",
       " (Index(['Promo_bw'], dtype='object'), (759904, 1)),\n",
       " (Index(['SchoolHoliday_fw'], dtype='object'), (759904, 1)),\n",
       " (Index(['SchoolHoliday_bw'], dtype='object'), (759904, 1)),\n",
       " (Index(['CompetitionDistance'], dtype='object'), (759904, 1)),\n",
       " (Index(['Max_TemperatureC'], dtype='object'), (759904, 1)),\n",
       " (Index(['Mean_TemperatureC'], dtype='object'), (759904, 1)),\n",
       " (Index(['Min_TemperatureC'], dtype='object'), (759904, 1)),\n",
       " (Index(['Precipitationmm'], dtype='object'), (759904, 1)),\n",
       " (Index(['Max_Humidity'], dtype='object'), (759904, 1)),\n",
       " (Index(['Mean_Humidity'], dtype='object'), (759904, 1)),\n",
       " (Index(['Min_Humidity'], dtype='object'), (759904, 1)),\n",
       " (Index(['Max_Wind_SpeedKm_h'], dtype='object'), (759904, 1)),\n",
       " (Index(['Mean_Wind_SpeedKm_h'], dtype='object'), (759904, 1)),\n",
       " (Index(['CloudCover'], dtype='object'), (759904, 1)),\n",
       " (Index(['trend'], dtype='object'), (759904, 1)),\n",
       " (Index(['trend_DE'], dtype='object'), (759904, 1)),\n",
       " (Index(['AfterStateHoliday_bool'], dtype='object'), (759904, 1)),\n",
       " (Index(['BeforeStateHoliday_bool'], dtype='object'), (759904, 1)),\n",
       " (Index(['Promo'], dtype='object'), (759904, 1)),\n",
       " (Index(['SchoolHoliday'], dtype='object'), (759904, 1)),\n",
       " (Index(['StateHoliday_bool'], dtype='object'), (759904, 1))]"
      ]
     },
     "execution_count": 83,
     "metadata": {},
     "output_type": "execute_result"
    }
   ],
   "source": [
    "[(name.columns,name.shape) for name in map_train]"
   ]
  },
  {
   "cell_type": "markdown",
   "id": "a3cc57cc-f536-419e-9afb-46409024e67c",
   "metadata": {},
   "source": [
    "# Submit Competition"
   ]
  },
  {
   "cell_type": "code",
   "execution_count": 84,
   "id": "5a02a6a2-962d-4c11-8bed-03394484c141",
   "metadata": {},
   "outputs": [],
   "source": [
    "model.load_weights('bestmodel.hdf5')"
   ]
  },
  {
   "cell_type": "code",
   "execution_count": 85,
   "id": "07c77f3b-d44f-4a54-80f2-82cb9767007b",
   "metadata": {},
   "outputs": [],
   "source": [
    "contins_test = df_test[contin_vars]\n",
    "cats_test    = df_test[cat_var_dict.keys()]\n",
    "map_test     = split_cols(cats_test) + split_cols(contins_test)"
   ]
  },
  {
   "cell_type": "code",
   "execution_count": 93,
   "id": "22cc657b-f3c5-49ea-bffa-0d3696b93acf",
   "metadata": {},
   "outputs": [
    {
     "name": "stdout",
     "output_type": "stream",
     "text": [
      "2639/2639 [==============================] - 7s 3ms/step\n",
      "1284/1284 [==============================] - 6s 5ms/step\n"
     ]
    }
   ],
   "source": [
    "y_pred = np.exp(model.predict(map_valid, verbose=1)*max_y_log)[:,0]\n",
    "y_pred_test = np.exp(model.predict(map_test, verbose=1)*max_y_log)[:,0]        "
   ]
  },
  {
   "cell_type": "code",
   "execution_count": 92,
   "id": "bc050aee-1255-412b-b6d8-26f3e376c7dc",
   "metadata": {},
   "outputs": [],
   "source": [
    "sample_csv = pd.read_csv('rossmann/sample_submission.csv')\n",
    "sample_csv['Sales'] = y_pred_test\n",
    "sample_csv.head()\n",
    "\n",
    "sample_csv.to_csv(f'submision_test.csv', index=False)"
   ]
  },
  {
   "cell_type": "code",
   "execution_count": null,
   "id": "32832aa3-a93d-494a-8025-fd741dc20fdb",
   "metadata": {},
   "outputs": [],
   "source": []
  },
  {
   "cell_type": "code",
   "execution_count": null,
   "id": "a07eb310-981b-4c00-9797-a79536e618df",
   "metadata": {},
   "outputs": [],
   "source": []
  }
 ],
 "metadata": {
  "kernelspec": {
   "display_name": "Python 3 (ipykernel)",
   "language": "python",
   "name": "python3"
  },
  "language_info": {
   "codemirror_mode": {
    "name": "ipython",
    "version": 3
   },
   "file_extension": ".py",
   "mimetype": "text/x-python",
   "name": "python",
   "nbconvert_exporter": "python",
   "pygments_lexer": "ipython3",
   "version": "3.9.15"
  }
 },
 "nbformat": 4,
 "nbformat_minor": 5
}
